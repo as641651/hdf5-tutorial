{
 "cells": [
  {
   "cell_type": "markdown",
   "metadata": {},
   "source": [
    "Wrapper (serial)"
   ]
  },
  {
   "cell_type": "code",
   "execution_count": 1,
   "metadata": {},
   "outputs": [
    {
     "name": "stdout",
     "output_type": "stream",
     "text": [
      "Overwriting src/sms.sh\n"
     ]
    }
   ],
   "source": [
    "%%writefile src/sms.sh\n",
    "\n",
    "#!/bin/bash\n",
    "LOG_FILE=\"logs/sms.st\"\n",
    "strace -f -tt -T -r -y -o \"$LOG_FILE\" \"$@\""
   ]
  },
  {
   "cell_type": "code",
   "execution_count": 2,
   "metadata": {},
   "outputs": [],
   "source": [
    "!chmod +x src/sms.sh"
   ]
  },
  {
   "cell_type": "markdown",
   "metadata": {},
   "source": [
    "Usage"
   ]
  },
  {
   "cell_type": "code",
   "execution_count": 3,
   "metadata": {},
   "outputs": [
    {
     "name": "stdout",
     "output_type": "stream",
     "text": [
      "-e\n",
      "00-prepare-eg.ipynb\n",
      "01A-dev-StraceLineReader.ipynb\n",
      "01B-dev-Preprocessor.ipynb\n",
      "01C-dev-Miner.ipynb\n",
      "02-dev-IOMinerV1.ipynb\n",
      "02-test-IOMinerV1.ipynb\n",
      "03-dev-IOMinerV2.ipynb\n",
      "03-test-IOMinerV2.ipynb\n",
      "04-dev-IOMinerV3.ipynb\n",
      "04-test-IOMinerV3.ipynb\n",
      "05-sm-wrapper.ipynb\n",
      "05-test-wrapper.ipynb\n",
      "06-dev-IOMinerV4.ipynb\n",
      "06-test-IOMinerV4.ipynb\n",
      "07-dev-DFGVisualizer.ipynb\n",
      "07-test-DFGVisualizer.ipynb\n",
      "Digraph.gv\n",
      "Digraph.gv.png\n",
      "X1-pm4py-dfg.ipynb\n",
      "data\n",
      "graph\n",
      "logs\n",
      "old\n",
      "src\n"
     ]
    }
   ],
   "source": [
    "%%bash\n",
    "./src/sms.sh ls"
   ]
  },
  {
   "cell_type": "code",
   "execution_count": 4,
   "metadata": {},
   "outputs": [
    {
     "name": "stdout",
     "output_type": "stream",
     "text": [
      "CSV log path: logs/sms.csv\n"
     ]
    },
    {
     "name": "stderr",
     "output_type": "stream",
     "text": [
      "/home/vscode/.local/lib/python3.12/site-packages/pm4py/utils.py:538: UserWarning: the EventLog class has been deprecated and will be removed in a future release.\n",
      "  warnings.warn(\"the EventLog class has been deprecated and will be removed in a future release.\")\n"
     ]
    },
    {
     "data": {
      "text/html": [
       "<div>\n",
       "<style scoped>\n",
       "    .dataframe tbody tr th:only-of-type {\n",
       "        vertical-align: middle;\n",
       "    }\n",
       "\n",
       "    .dataframe tbody tr th {\n",
       "        vertical-align: top;\n",
       "    }\n",
       "\n",
       "    .dataframe thead th {\n",
       "        text-align: right;\n",
       "    }\n",
       "</style>\n",
       "<table border=\"1\" class=\"dataframe\">\n",
       "  <thead>\n",
       "    <tr style=\"text-align: right;\">\n",
       "      <th></th>\n",
       "      <th>call</th>\n",
       "      <th>duration</th>\n",
       "      <th>percent</th>\n",
       "    </tr>\n",
       "  </thead>\n",
       "  <tbody>\n",
       "    <tr>\n",
       "      <th>0</th>\n",
       "      <td>[read, [&lt;4KB], /lib/x86_64-linux-gnu]</td>\n",
       "      <td>0.000181</td>\n",
       "      <td>0.716690</td>\n",
       "    </tr>\n",
       "    <tr>\n",
       "      <th>1</th>\n",
       "      <td>[read, [&lt;4KB], /proc/filesystems]</td>\n",
       "      <td>0.000144</td>\n",
       "      <td>0.570184</td>\n",
       "    </tr>\n",
       "    <tr>\n",
       "      <th>2</th>\n",
       "      <td>[read, [&lt;4KB], /usr/lib]</td>\n",
       "      <td>0.000053</td>\n",
       "      <td>0.209859</td>\n",
       "    </tr>\n",
       "    <tr>\n",
       "      <th>3</th>\n",
       "      <td>[read, [&lt;4MB], /etc/locale.alias]</td>\n",
       "      <td>0.000060</td>\n",
       "      <td>0.237577</td>\n",
       "    </tr>\n",
       "    <tr>\n",
       "      <th>4</th>\n",
       "      <td>[write, [&lt;4KB], pipe:[766394]]</td>\n",
       "      <td>0.000080</td>\n",
       "      <td>0.316769</td>\n",
       "    </tr>\n",
       "  </tbody>\n",
       "</table>\n",
       "</div>"
      ],
      "text/plain": [
       "                                    call  duration   percent\n",
       "0  [read, [<4KB], /lib/x86_64-linux-gnu]  0.000181  0.716690\n",
       "1      [read, [<4KB], /proc/filesystems]  0.000144  0.570184\n",
       "2               [read, [<4KB], /usr/lib]  0.000053  0.209859\n",
       "3      [read, [<4MB], /etc/locale.alias]  0.000060  0.237577\n",
       "4         [write, [<4KB], pipe:[766394]]  0.000080  0.316769"
      ]
     },
     "execution_count": 4,
     "metadata": {},
     "output_type": "execute_result"
    }
   ],
   "source": [
    "from strace_miner.miner import IOMinerV3\n",
    "from strace_miner.preprocessor import IOLineReaderV2\n",
    "\n",
    "io_calls = ['read','write']\n",
    "line_reader = IOLineReaderV2(['/workspaces/',],collapse=False)\n",
    "sta = IOMinerV3([\"logs/sms.st\",],io_calls,line_reader)\n",
    "sta.preprocess()\n",
    "sta.prepare_summaries_and_event_log()\n",
    "sta.prepare_dfg()\n",
    "sta.activities_summary['sms']"
   ]
  },
  {
   "cell_type": "code",
   "execution_count": 5,
   "metadata": {},
   "outputs": [
    {
     "data": {
      "image/png": "[encoded data removed]",
      "text/plain": [
       "<IPython.core.display.Image object>"
      ]
     },
     "metadata": {},
     "output_type": "display_data"
    }
   ],
   "source": [
    "sta.view_dfg()"
   ]
  },
  {
   "cell_type": "markdown",
   "metadata": {},
   "source": [
    "Wrapper (parallel)"
   ]
  },
  {
   "cell_type": "code",
   "execution_count": 6,
   "metadata": {},
   "outputs": [
    {
     "name": "stdout",
     "output_type": "stream",
     "text": [
      "Overwriting src/smp.sh\n"
     ]
    }
   ],
   "source": [
    "%%writefile src/smp.sh\n",
    "\n",
    "#!/bin/bash\n",
    "LOG_FILE=\"logs/$1_$(hostname)_$$.st\"\n",
    "echo $LOG_FILE\n",
    "strace -f -tt -T -r -y -o \"$LOG_FILE\" \"$@\""
   ]
  },
  {
   "cell_type": "code",
   "execution_count": 7,
   "metadata": {},
   "outputs": [],
   "source": [
    "!chmod +x src/smp.sh"
   ]
  },
  {
   "cell_type": "markdown",
   "metadata": {},
   "source": [
    "Usage"
   ]
  },
  {
   "cell_type": "code",
   "execution_count": 8,
   "metadata": {},
   "outputs": [
    {
     "name": "stdout",
     "output_type": "stream",
     "text": [
      "logs/lscpu_a65243794be3_55478.st\n",
      "Architecture:                       x86_64\n",
      "CPU op-mode(s):                     32-bit, 64-bit\n",
      "Byte Order:                         Little Endian\n",
      "Address sizes:                      39 bits physical, 48 bits virtual\n",
      "CPU(s):                             16\n",
      "On-line CPU(s) list:                0-15\n",
      "Thread(s) per core:                 2\n",
      "Core(s) per socket:                 8\n",
      "Socket(s):                          1\n",
      "Vendor ID:                          GenuineIntel\n",
      "CPU family:                         6\n",
      "Model:                              154\n",
      "Model name:                         12th Gen Intel(R) Core(TM) i7-1260P\n",
      "Stepping:                           3\n",
      "CPU MHz:                            2496.011\n",
      "BogoMIPS:                           4992.02\n",
      "Virtualization:                     VT-x\n",
      "Hypervisor vendor:                  Microsoft\n",
      "Virtualization type:                full\n",
      "L1d cache:                          384 KiB\n",
      "L1i cache:                          256 KiB\n",
      "L2 cache:                           10 MiB\n",
      "L3 cache:                           18 MiB\n",
      "Vulnerability Gather data sampling: Not affected\n",
      "Vulnerability Itlb multihit:        Not affected\n",
      "Vulnerability L1tf:                 Not affected\n",
      "Vulnerability Mds:                  Not affected\n",
      "Vulnerability Meltdown:             Not affected\n",
      "Vulnerability Mmio stale data:      Not affected\n",
      "Vulnerability Retbleed:             Mitigation; Enhanced IBRS\n",
      "Vulnerability Spec rstack overflow: Not affected\n",
      "Vulnerability Spec store bypass:    Mitigation; Speculative Store Bypass disabled via prctl and seccomp\n",
      "Vulnerability Spectre v1:           Mitigation; usercopy/swapgs barriers and __user pointer sanitization\n",
      "Vulnerability Spectre v2:           Mitigation; Enhanced IBRS, IBPB conditional, RSB filling, PBRSB-eIBRS SW sequence\n",
      "Vulnerability Srbds:                Not affected\n",
      "Vulnerability Tsx async abort:      Not affected\n",
      "Flags:                              fpu vme de pse tsc msr pae mce cx8 apic sep mtrr pge mca cmov pat pse36 clflush mmx fxsr sse sse2 ss ht syscall nx pdpe1gb rdtscp lm constant_tsc rep_good nopl xtopology tsc_reliable nonstop_tsc cpuid pni pclmulqdq vmx ssse3 fma cx16 sse4_1 sse4_2 x2apic movbe popcnt tsc_deadline_timer aes xsave avx f16c rdrand hypervisor lahf_lm abm 3dnowprefetch ssbd ibrs ibpb stibp ibrs_enhanced tpr_shadow vnmi ept vpid ept_ad fsgsbase tsc_adjust bmi1 avx2 smep bmi2 erms invpcid rdseed adx smap clflushopt clwb sha_ni xsaveopt xsavec xgetbv1 xsaves avx_vnni umip waitpkg gfni vaes vpclmulqdq rdpid movdiri movdir64b fsrm serialize flush_l1d arch_capabilities\n"
     ]
    }
   ],
   "source": [
    "%%bash\n",
    "./src/smp.sh lscpu"
   ]
  },
  {
   "cell_type": "code",
   "execution_count": 9,
   "metadata": {},
   "outputs": [
    {
     "name": "stdout",
     "output_type": "stream",
     "text": [
      "logs/ls_a65243794be3_55492.st\n",
      "logs/ls_a65243794be3_55493.st\n",
      "-e\t\t\t\t04-dev-IOMinerV3.ipynb\t     Digraph.gv.png\n",
      "00-prepare-eg.ipynb\t\t04-test-IOMinerV3.ipynb      X1-pm4py-dfg.ipynb\n",
      "01A-dev-StraceLineReader.ipynb\t05-sm-wrapper.ipynb\t     data\n",
      "01B-dev-Preprocessor.ipynb\t05-test-wrapper.ipynb\t     graph\n",
      "01C-dev-Miner.ipynb\t\t06-dev-IOMinerV4.ipynb\t     logs\n",
      "02-dev-IOMinerV1.ipynb\t\t06-test-IOMinerV4.ipynb      old\n",
      "-e\t\t\t\t04-dev-IOMinerV3.ipynb\t     Digraph.gv.png\n",
      "02-test-IOMinerV1.ipynb\t\t07-dev-DFGVisualizer.ipynb   src\n",
      "00-prepare-eg.ipynb\t\t04-test-IOMinerV3.ipynb      X1-pm4py-dfg.ipynb\n",
      "03-dev-IOMinerV2.ipynb\t\t07-test-DFGVisualizer.ipynb\n",
      "01A-dev-StraceLineReader.ipynb\t05-sm-wrapper.ipynb\t     data\n",
      "03-test-IOMinerV2.ipynb\t\tDigraph.gv\n",
      "01B-dev-Preprocessor.ipynb\t05-test-wrapper.ipynb\t     graph\n",
      "01C-dev-Miner.ipynb\t\t06-dev-IOMinerV4.ipynb\t     logs\n",
      "02-dev-IOMinerV1.ipynb\t\t06-test-IOMinerV4.ipynb      old\n",
      "02-test-IOMinerV1.ipynb\t\t07-dev-DFGVisualizer.ipynb   src\n",
      "03-dev-IOMinerV2.ipynb\t\t07-test-DFGVisualizer.ipynb\n",
      "03-test-IOMinerV2.ipynb\t\tDigraph.gv\n"
     ]
    }
   ],
   "source": [
    "!mpiexec -n 2 bash src/smp.sh ls"
   ]
  },
  {
   "cell_type": "code",
   "execution_count": 10,
   "metadata": {},
   "outputs": [
    {
     "name": "stdout",
     "output_type": "stream",
     "text": [
      "12:49:26.325673 execve(\"/bin/ls\", [\"ls\"], 0x7fff2cd1d310 /* 59 vars */) = 0\n",
      "12:49:26.326129 brk(NULL)               = 0x56315354b000\n",
      "12:49:26.326320 access(\"/etc/ld.so.preload\", R_OK) = -1 ENOENT (No such file or directory)\n",
      "12:49:26.326522 openat(AT_FDCWD, \"/etc/ld.so.cache\", O_RDONLY|O_CLOEXEC) = 3</etc/ld.so.cache>\n",
      "12:49:26.326681 fstat(3</etc/ld.so.cache>, {st_mode=S_IFREG|0644, st_size=39386, ...}) = 0\n",
      "12:49:26.326787 mmap(NULL, 39386, PROT_READ, MAP_PRIVATE, 3</etc/ld.so.cache>, 0) = 0x7fb5ffd8b000\n",
      "12:49:26.327000 close(3</etc/ld.so.cache>) = 0\n",
      "12:49:26.327153 openat(AT_FDCWD, \"/lib/x86_64-linux-gnu/libselinux.so.1\", O_RDONLY|O_CLOEXEC) = 3</lib/x86_64-linux-gnu/libselinux.so.1>\n",
      "12:49:26.327304 read(3</lib/x86_64-linux-gnu/libselinux.so.1>, \"\\177ELF\\2\\1\\1\\0\\0\\0\\0\\0\\0\\0\\0\\0\\3\\0>\\0\\1\\0\\0\\0\\220}\\0\\0\\0\\0\\0\\0\"..., 832) = 832\n",
      "12:49:26.327395 fstat(3</lib/x86_64-linux-gnu/libselinux.so.1>, {st_mode=S_IFREG|0644, st_size=166120, ...}) = 0\n",
      "12:49:26.327545 mmap(NULL, 8192, PROT_READ|PROT_WRITE, MAP_PRIVATE|MAP_ANONYMOUS, -1, 0) = 0x7fb5ffd89000\n",
      "12:49:26.327691 mmap(NULL, 177672, PROT_READ, MAP_PRIVATE|MAP_DENYWRITE, 3</lib/x86_64-linux-gnu/libselinux.so.1>, 0) = 0x7fb5ffd5d000\n",
      "12:49:26.327780 mmap(0x7fb5ffd64000, 102400, PROT_READ|PROT_EXEC, MAP_PRIVATE|MAP_FIXED|MAP_DENYWRITE, 3</lib/x86_64-linux-gnu/libselinux.so.1>, 0x7000) = 0x7fb5ffd64000\n",
      "12:49:26.327876 mmap(0x7fb5ffd7d000, 32768, PROT_READ, MAP_PRIVATE|MAP_FIXED|MAP_DENYWRITE, 3</lib/x86_64-linux-gnu/libselinux.so.1>, 0x20000) = 0x7fb5ffd7d000\n",
      "12:49:26.327966 mmap(0x7fb5ffd85000, 8192, PROT_READ|PROT_WRITE, MAP_PRIVATE|MAP_FIXED|MAP_DENYWRITE, 3</lib/x86_64-linux-gnu/libselinux.so.1>, 0x27000) = 0x7fb5ffd85000\n",
      "12:49:26.328057 mmap(0x7fb5ffd87000, 5640, PROT_READ|PROT_WRITE, MAP_PRIVATE|MAP_FIXED|MAP_ANONYMOUS, -1, 0) = 0x7fb5ffd87000\n",
      "12:49:26.328146 close(3</lib/x86_64-linux-gnu/libselinux.so.1>) = 0\n",
      "12:49:26.328376 openat(AT_FDCWD, \"/lib/x86_64-linux-gnu/libc.so.6\", O_RDONLY|O_CLOEXEC) = 3</lib/x86_64-linux-gnu/libc-2.31.so>\n",
      "12:49:26.328473 read(3</lib/x86_64-linux-gnu/libc-2.31.so>, \"\\177ELF\\2\\1\\1\\3\\0\\0\\0\\0\\0\\0\\0\\0\\3\\0>\\0\\1\\0\\0\\0@>\\2\\0\\0\\0\\0\\0\"..., 832) = 832\n",
      "12:49:26.328624 fstat(3</lib/x86_64-linux-gnu/libc-2.31.so>, {st_mode=S_IFREG|0755, st_size=1901536, ...}) = 0\n",
      "12:49:26.328778 mmap(NULL, 1914496, PROT_READ, MAP_PRIVATE|MAP_DENYWRITE, 3</lib/x86_64-linux-gnu/libc-2.31.so>, 0) = 0x7fb5ffb89000\n",
      "12:49:26.328900 mmap(0x7fb5ffbab000, 1413120, PROT_READ|PROT_EXEC, MAP_PRIVATE|MAP_FIXED|MAP_DENYWRITE, 3</lib/x86_64-linux-gnu/libc-2.31.so>, 0x22000) = 0x7fb5ffbab000\n",
      "12:49:26.329182 mmap(0x7fb5ffd04000, 323584, PROT_READ, MAP_PRIVATE|MAP_FIXED|MAP_DENYWRITE, 3</lib/x86_64-linux-gnu/libc-2.31.so>, 0x17b000) = 0x7fb5ffd04000\n",
      "12:49:26.329420 mmap(0x7fb5ffd53000, 24576, PROT_READ|PROT_WRITE, MAP_PRIVATE|MAP_FIXED|MAP_DENYWRITE, 3</lib/x86_64-linux-gnu/libc-2.31.so>, 0x1c9000) = 0x7fb5ffd53000\n",
      "12:49:26.329592 mmap(0x7fb5ffd59000, 13952, PROT_READ|PROT_WRITE, MAP_PRIVATE|MAP_FIXED|MAP_ANONYMOUS, -1, 0) = 0x7fb5ffd59000\n",
      "12:49:26.329723 close(3</lib/x86_64-linux-gnu/libc-2.31.so>) = 0\n",
      "12:49:26.329844 openat(AT_FDCWD, \"/usr/lib/x86_64-linux-gnu/libpcre2-8.so.0\", O_RDONLY|O_CLOEXEC) = 3</usr/lib/x86_64-linux-gnu/libpcre2-8.so.0.10.1>\n",
      "12:49:26.329971 read(3</usr/lib/x86_64-linux-gnu/libpcre2-8.so.0.10.1>, \"\\177ELF\\2\\1\\1\\0\\0\\0\\0\\0\\0\\0\\0\\0\\3\\0>\\0\\1\\0\\0\\0\\200\\\"\\0\\0\\0\\0\\0\\0\"..., 832) = 832\n",
      "12:49:26.330075 fstat(3</usr/lib/x86_64-linux-gnu/libpcre2-8.so.0.10.1>, {st_mode=S_IFREG|0644, st_size=617128, ...}) = 0\n",
      "12:49:26.330197 mmap(NULL, 619432, PROT_READ, MAP_PRIVATE|MAP_DENYWRITE, 3</usr/lib/x86_64-linux-gnu/libpcre2-8.so.0.10.1>, 0) = 0x7fb5ffaf1000\n",
      "12:49:26.330297 mmap(0x7fb5ffaf3000, 438272, PROT_READ|PROT_EXEC, MAP_PRIVATE|MAP_FIXED|MAP_DENYWRITE, 3</usr/lib/x86_64-linux-gnu/libpcre2-8.so.0.10.1>, 0x2000) = 0x7fb5ffaf3000\n",
      "12:49:26.330394 mmap(0x7fb5ffb5e000, 167936, PROT_READ, MAP_PRIVATE|MAP_FIXED|MAP_DENYWRITE, 3</usr/lib/x86_64-linux-gnu/libpcre2-8.so.0.10.1>, 0x6d000) = 0x7fb5ffb5e000\n",
      "12:49:26.330538 mmap(0x7fb5ffb87000, 8192, PROT_READ|PROT_WRITE, MAP_PRIVATE|MAP_FIXED|MAP_DENYWRITE, 3</usr/lib/x86_64-linux-gnu/libpcre2-8.so.0.10.1>, 0x95000) = 0x7fb5ffb87000\n",
      "12:49:26.330829 close(3</usr/lib/x86_64-linux-gnu/libpcre2-8.so.0.10.1>) = 0\n",
      "12:49:26.330928 openat(AT_FDCWD, \"/lib/x86_64-linux-gnu/libdl.so.2\", O_RDONLY|O_CLOEXEC) = 3</lib/x86_64-linux-gnu/libdl-2.31.so>\n",
      "12:49:26.331026 read(3</lib/x86_64-linux-gnu/libdl-2.31.so>, \"\\177ELF\\2\\1\\1\\0\\0\\0\\0\\0\\0\\0\\0\\0\\3\\0>\\0\\1\\0\\0\\0000\\21\\0\\0\\0\\0\\0\\0\"..., 832) = 832\n",
      "12:49:26.331171 fstat(3</lib/x86_64-linux-gnu/libdl-2.31.so>, {st_mode=S_IFREG|0644, st_size=18688, ...}) = 0\n",
      "12:49:26.331372 mmap(NULL, 20752, PROT_READ, MAP_PRIVATE|MAP_DENYWRITE, 3</lib/x86_64-linux-gnu/libdl-2.31.so>, 0) = 0x7fb5ffaeb000\n",
      "12:49:26.331476 mmap(0x7fb5ffaec000, 8192, PROT_READ|PROT_EXEC, MAP_PRIVATE|MAP_FIXED|MAP_DENYWRITE, 3</lib/x86_64-linux-gnu/libdl-2.31.so>, 0x1000) = 0x7fb5ffaec000\n",
      "12:49:26.331636 mmap(0x7fb5ffaee000, 4096, PROT_READ, MAP_PRIVATE|MAP_FIXED|MAP_DENYWRITE, 3</lib/x86_64-linux-gnu/libdl-2.31.so>, 0x3000) = 0x7fb5ffaee000\n",
      "12:49:26.331876 mmap(0x7fb5ffaef000, 8192, PROT_READ|PROT_WRITE, MAP_PRIVATE|MAP_FIXED|MAP_DENYWRITE, 3</lib/x86_64-linux-gnu/libdl-2.31.so>, 0x3000) = 0x7fb5ffaef000\n",
      "12:49:26.332102 close(3</lib/x86_64-linux-gnu/libdl-2.31.so>) = 0\n",
      "12:49:26.332210 openat(AT_FDCWD, \"/lib/x86_64-linux-gnu/libpthread.so.0\", O_RDONLY|O_CLOEXEC) = 3</lib/x86_64-linux-gnu/libpthread-2.31.so>\n",
      "12:49:26.332308 read(3</lib/x86_64-linux-gnu/libpthread-2.31.so>, \"\\177ELF\\2\\1\\1\\0\\0\\0\\0\\0\\0\\0\\0\\0\\3\\0>\\0\\1\\0\\0\\0 l\\0\\0\\0\\0\\0\\0\"..., 832) = 832\n",
      "12:49:26.332399 fstat(3</lib/x86_64-linux-gnu/libpthread-2.31.so>, {st_mode=S_IFREG|0755, st_size=149520, ...}) = 0\n",
      "12:49:26.332488 mmap(NULL, 136304, PROT_READ, MAP_PRIVATE|MAP_DENYWRITE, 3</lib/x86_64-linux-gnu/libpthread-2.31.so>, 0) = 0x7fb5ffac9000\n",
      "12:49:26.332584 mmap(0x7fb5ffacf000, 65536, PROT_READ|PROT_EXEC, MAP_PRIVATE|MAP_FIXED|MAP_DENYWRITE, 3</lib/x86_64-linux-gnu/libpthread-2.31.so>, 0x6000) = 0x7fb5ffacf000\n",
      "12:49:26.332684 mmap(0x7fb5ffadf000, 24576, PROT_READ, MAP_PRIVATE|MAP_FIXED|MAP_DENYWRITE, 3</lib/x86_64-linux-gnu/libpthread-2.31.so>, 0x16000) = 0x7fb5ffadf000\n",
      "12:49:26.332781 mmap(0x7fb5ffae5000, 8192, PROT_READ|PROT_WRITE, MAP_PRIVATE|MAP_FIXED|MAP_DENYWRITE, 3</lib/x86_64-linux-gnu/libpthread-2.31.so>, 0x1b000) = 0x7fb5ffae5000\n",
      "12:49:26.332874 mmap(0x7fb5ffae7000, 13424, PROT_READ|PROT_WRITE, MAP_PRIVATE|MAP_FIXED|MAP_ANONYMOUS, -1, 0) = 0x7fb5ffae7000\n",
      "12:49:26.332969 close(3</lib/x86_64-linux-gnu/libpthread-2.31.so>) = 0\n",
      "12:49:26.333066 mmap(NULL, 8192, PROT_READ|PROT_WRITE, MAP_PRIVATE|MAP_ANONYMOUS, -1, 0) = 0x7fb5ffac7000\n",
      "12:49:26.333163 arch_prctl(ARCH_SET_FS, 0x7fb5ffac8400) = 0\n",
      "12:49:26.333311 mprotect(0x7fb5ffd53000, 16384, PROT_READ) = 0\n",
      "12:49:26.333413 mprotect(0x7fb5ffae5000, 4096, PROT_READ) = 0\n",
      "12:49:26.333529 mprotect(0x7fb5ffaef000, 4096, PROT_READ) = 0\n",
      "12:49:26.333625 mprotect(0x7fb5ffb87000, 4096, PROT_READ) = 0\n",
      "12:49:26.333892 mprotect(0x7fb5ffd85000, 4096, PROT_READ) = 0\n",
      "12:49:26.334041 mprotect(0x563153097000, 4096, PROT_READ) = 0\n",
      "12:49:26.334308 mprotect(0x7fb5ffdbf000, 4096, PROT_READ) = 0\n",
      "12:49:26.334478 munmap(0x7fb5ffd8b000, 39386) = 0\n",
      "12:49:26.334742 set_tid_address(0x7fb5ffac86d0) = 55508\n",
      "12:49:26.334907 set_robust_list(0x7fb5ffac86e0, 24) = 0\n",
      "12:49:26.335007 rt_sigaction(SIGRTMIN, {sa_handler=0x7fb5ffacf690, sa_mask=[], sa_flags=SA_RESTORER|SA_SIGINFO, sa_restorer=0x7fb5ffadc140}, NULL, 8) = 0\n",
      "12:49:26.335104 rt_sigaction(SIGRT_1, {sa_handler=0x7fb5ffacf730, sa_mask=[], sa_flags=SA_RESTORER|SA_RESTART|SA_SIGINFO, sa_restorer=0x7fb5ffadc140}, NULL, 8) = 0\n",
      "12:49:26.335253 rt_sigprocmask(SIG_UNBLOCK, [RTMIN RT_1], NULL, 8) = 0\n",
      "12:49:26.335440 prlimit64(0, RLIMIT_STACK, NULL, {rlim_cur=8192*1024, rlim_max=RLIM64_INFINITY}) = 0\n",
      "12:49:26.335690 statfs(\"/sys/fs/selinux\", 0x7fff6410e7e0) = -1 ENOENT (No such file or directory)\n",
      "12:49:26.335891 statfs(\"/selinux\", 0x7fff6410e7e0) = -1 ENOENT (No such file or directory)\n",
      "12:49:26.336104 brk(NULL)               = 0x56315354b000\n",
      "12:49:26.336367 brk(0x56315356c000)     = 0x56315356c000\n",
      "12:49:26.336582 openat(AT_FDCWD, \"/proc/filesystems\", O_RDONLY|O_CLOEXEC) = 3</proc/filesystems>\n",
      "12:49:26.337014 fstat(3</proc/filesystems>, {st_mode=S_IFREG|0444, st_size=0, ...}) = 0\n",
      "12:49:26.337346 read(3</proc/filesystems>, \"nodev\\tsysfs\\nnodev\\ttmpfs\\nnodev\\tbd\"..., 1024) = 478\n",
      "12:49:26.337791 read(3</proc/filesystems>, \"\", 1024) = 0\n",
      "12:49:26.338128 close(3</proc/filesystems>) = 0\n",
      "12:49:26.338372 access(\"/etc/selinux/config\", F_OK) = -1 ENOENT (No such file or directory)\n",
      "12:49:26.338619 openat(AT_FDCWD, \"/usr/lib/locale/locale-archive\", O_RDONLY|O_CLOEXEC) = 3</usr/lib/locale/locale-archive>\n",
      "12:49:26.338916 fstat(3</usr/lib/locale/locale-archive>, {st_mode=S_IFREG|0644, st_size=3041456, ...}) = 0\n",
      "12:49:26.339231 mmap(NULL, 3041456, PROT_READ, MAP_PRIVATE, 3</usr/lib/locale/locale-archive>, 0) = 0x7fb5ff7e0000\n",
      "12:49:26.339430 close(3</usr/lib/locale/locale-archive>) = 0\n",
      "12:49:26.339564 openat(AT_FDCWD, \"/usr/share/locale/locale.alias\", O_RDONLY|O_CLOEXEC) = 3</etc/locale.alias>\n",
      "12:49:26.339681 fstat(3</etc/locale.alias>, {st_mode=S_IFREG|0644, st_size=2996, ...}) = 0\n",
      "12:49:26.339784 read(3</etc/locale.alias>, \"# Locale name alias data base.\\n#\"..., 4096) = 2996\n",
      "12:49:26.339903 read(3</etc/locale.alias>, \"\", 4096) = 0\n",
      "12:49:26.340031 close(3</etc/locale.alias>) = 0\n",
      "12:49:26.340153 openat(AT_FDCWD, \"/usr/lib/locale/C.UTF-8/LC_IDENTIFICATION\", O_RDONLY|O_CLOEXEC) = 3</usr/lib/locale/C.UTF-8/LC_IDENTIFICATION>\n",
      "12:49:26.340297 fstat(3</usr/lib/locale/C.UTF-8/LC_IDENTIFICATION>, {st_mode=S_IFREG|0644, st_size=252, ...}) = 0\n",
      "12:49:26.340419 mmap(NULL, 252, PROT_READ, MAP_PRIVATE, 3</usr/lib/locale/C.UTF-8/LC_IDENTIFICATION>, 0) = 0x7fb5ffdbe000\n",
      "12:49:26.340541 close(3</usr/lib/locale/C.UTF-8/LC_IDENTIFICATION>) = 0\n",
      "12:49:26.340669 openat(AT_FDCWD, \"/usr/lib/x86_64-linux-gnu/gconv/gconv-modules.cache\", O_RDONLY) = 3</usr/lib/x86_64-linux-gnu/gconv/gconv-modules.cache>\n",
      "12:49:26.340798 fstat(3</usr/lib/x86_64-linux-gnu/gconv/gconv-modules.cache>, {st_mode=S_IFREG|0644, st_size=27002, ...}) = 0\n",
      "12:49:26.340879 mmap(NULL, 27002, PROT_READ, MAP_SHARED, 3</usr/lib/x86_64-linux-gnu/gconv/gconv-modules.cache>, 0) = 0x7fb5ffd8e000\n",
      "12:49:26.340962 close(3</usr/lib/x86_64-linux-gnu/gconv/gconv-modules.cache>) = 0\n",
      "12:49:26.341077 futex(0x7fb5ffd5899c, FUTEX_WAKE_PRIVATE, 2147483647) = 0\n",
      "12:49:26.341238 openat(AT_FDCWD, \"/usr/lib/locale/C.UTF-8/LC_MEASUREMENT\", O_RDONLY|O_CLOEXEC) = 3</usr/lib/locale/C.UTF-8/LC_MEASUREMENT>\n",
      "12:49:26.341404 fstat(3</usr/lib/locale/C.UTF-8/LC_MEASUREMENT>, {st_mode=S_IFREG|0644, st_size=23, ...}) = 0\n",
      "12:49:26.341551 mmap(NULL, 23, PROT_READ, MAP_PRIVATE, 3</usr/lib/locale/C.UTF-8/LC_MEASUREMENT>, 0) = 0x7fb5ffd8d000\n",
      "12:49:26.341765 close(3</usr/lib/locale/C.UTF-8/LC_MEASUREMENT>) = 0\n",
      "12:49:26.341945 openat(AT_FDCWD, \"/usr/lib/locale/C.UTF-8/LC_TELEPHONE\", O_RDONLY|O_CLOEXEC) = 3</usr/lib/locale/C.UTF-8/LC_TELEPHONE>\n",
      "12:49:26.342077 fstat(3</usr/lib/locale/C.UTF-8/LC_TELEPHONE>, {st_mode=S_IFREG|0644, st_size=47, ...}) = 0\n",
      "12:49:26.342196 mmap(NULL, 47, PROT_READ, MAP_PRIVATE, 3</usr/lib/locale/C.UTF-8/LC_TELEPHONE>, 0) = 0x7fb5ffd8c000\n",
      "12:49:26.342310 close(3</usr/lib/locale/C.UTF-8/LC_TELEPHONE>) = 0\n",
      "12:49:26.342418 openat(AT_FDCWD, \"/usr/lib/locale/C.UTF-8/LC_ADDRESS\", O_RDONLY|O_CLOEXEC) = 3</usr/lib/locale/C.UTF-8/LC_ADDRESS>\n",
      "12:49:26.342547 fstat(3</usr/lib/locale/C.UTF-8/LC_ADDRESS>, {st_mode=S_IFREG|0644, st_size=131, ...}) = 0\n",
      "12:49:26.342651 mmap(NULL, 131, PROT_READ, MAP_PRIVATE, 3</usr/lib/locale/C.UTF-8/LC_ADDRESS>, 0) = 0x7fb5ffd8b000\n",
      "12:49:26.342750 close(3</usr/lib/locale/C.UTF-8/LC_ADDRESS>) = 0\n",
      "12:49:26.342860 openat(AT_FDCWD, \"/usr/lib/locale/C.UTF-8/LC_NAME\", O_RDONLY|O_CLOEXEC) = 3</usr/lib/locale/C.UTF-8/LC_NAME>\n",
      "12:49:26.342956 fstat(3</usr/lib/locale/C.UTF-8/LC_NAME>, {st_mode=S_IFREG|0644, st_size=62, ...}) = 0\n",
      "12:49:26.343076 mmap(NULL, 62, PROT_READ, MAP_PRIVATE, 3</usr/lib/locale/C.UTF-8/LC_NAME>, 0) = 0x7fb5ff7df000\n",
      "12:49:26.343188 close(3</usr/lib/locale/C.UTF-8/LC_NAME>) = 0\n",
      "12:49:26.343312 openat(AT_FDCWD, \"/usr/lib/locale/C.UTF-8/LC_PAPER\", O_RDONLY|O_CLOEXEC) = 3</usr/lib/locale/C.UTF-8/LC_PAPER>\n",
      "12:49:26.343514 fstat(3</usr/lib/locale/C.UTF-8/LC_PAPER>, {st_mode=S_IFREG|0644, st_size=34, ...}) = 0\n",
      "12:49:26.343624 mmap(NULL, 34, PROT_READ, MAP_PRIVATE, 3</usr/lib/locale/C.UTF-8/LC_PAPER>, 0) = 0x7fb5ff7de000\n",
      "12:49:26.343762 close(3</usr/lib/locale/C.UTF-8/LC_PAPER>) = 0\n",
      "12:49:26.343937 openat(AT_FDCWD, \"/usr/lib/locale/C.UTF-8/LC_MESSAGES\", O_RDONLY|O_CLOEXEC) = 3</usr/lib/locale/C.UTF-8/LC_MESSAGES>\n",
      "12:49:26.344145 fstat(3</usr/lib/locale/C.UTF-8/LC_MESSAGES>, {st_mode=S_IFDIR|0755, st_size=4096, ...}) = 0\n",
      "12:49:26.344256 close(3</usr/lib/locale/C.UTF-8/LC_MESSAGES>) = 0\n",
      "12:49:26.344352 openat(AT_FDCWD, \"/usr/lib/locale/C.UTF-8/LC_MESSAGES/SYS_LC_MESSAGES\", O_RDONLY|O_CLOEXEC) = 3</usr/lib/locale/C.UTF-8/LC_MESSAGES/SYS_LC_MESSAGES>\n",
      "12:49:26.344451 fstat(3</usr/lib/locale/C.UTF-8/LC_MESSAGES/SYS_LC_MESSAGES>, {st_mode=S_IFREG|0644, st_size=48, ...}) = 0\n",
      "12:49:26.344558 mmap(NULL, 48, PROT_READ, MAP_PRIVATE, 3</usr/lib/locale/C.UTF-8/LC_MESSAGES/SYS_LC_MESSAGES>, 0) = 0x7fb5ff7dd000\n",
      "12:49:26.344656 close(3</usr/lib/locale/C.UTF-8/LC_MESSAGES/SYS_LC_MESSAGES>) = 0\n",
      "12:49:26.344763 openat(AT_FDCWD, \"/usr/lib/locale/C.UTF-8/LC_MONETARY\", O_RDONLY|O_CLOEXEC) = 3</usr/lib/locale/C.UTF-8/LC_MONETARY>\n",
      "12:49:26.344879 fstat(3</usr/lib/locale/C.UTF-8/LC_MONETARY>, {st_mode=S_IFREG|0644, st_size=270, ...}) = 0\n",
      "12:49:26.344983 mmap(NULL, 270, PROT_READ, MAP_PRIVATE, 3</usr/lib/locale/C.UTF-8/LC_MONETARY>, 0) = 0x7fb5ff7dc000\n",
      "12:49:26.345073 close(3</usr/lib/locale/C.UTF-8/LC_MONETARY>) = 0\n",
      "12:49:26.345166 openat(AT_FDCWD, \"/usr/lib/locale/C.UTF-8/LC_COLLATE\", O_RDONLY|O_CLOEXEC) = 3</usr/lib/locale/C.UTF-8/LC_COLLATE>\n",
      "12:49:26.345258 fstat(3</usr/lib/locale/C.UTF-8/LC_COLLATE>, {st_mode=S_IFREG|0644, st_size=1519554, ...}) = 0\n",
      "12:49:26.345345 mmap(NULL, 1519554, PROT_READ, MAP_PRIVATE, 3</usr/lib/locale/C.UTF-8/LC_COLLATE>, 0) = 0x7fb5ff669000\n",
      "12:49:26.345432 close(3</usr/lib/locale/C.UTF-8/LC_COLLATE>) = 0\n",
      "12:49:26.345531 openat(AT_FDCWD, \"/usr/lib/locale/C.UTF-8/LC_TIME\", O_RDONLY|O_CLOEXEC) = 3</usr/lib/locale/C.UTF-8/LC_TIME>\n",
      "12:49:26.345620 fstat(3</usr/lib/locale/C.UTF-8/LC_TIME>, {st_mode=S_IFREG|0644, st_size=3360, ...}) = 0\n",
      "12:49:26.345715 mmap(NULL, 3360, PROT_READ, MAP_PRIVATE, 3</usr/lib/locale/C.UTF-8/LC_TIME>, 0) = 0x7fb5ff668000\n",
      "12:49:26.345907 close(3</usr/lib/locale/C.UTF-8/LC_TIME>) = 0\n",
      "12:49:26.346035 openat(AT_FDCWD, \"/usr/lib/locale/C.UTF-8/LC_NUMERIC\", O_RDONLY|O_CLOEXEC) = 3</usr/lib/locale/C.UTF-8/LC_NUMERIC>\n",
      "12:49:26.346212 fstat(3</usr/lib/locale/C.UTF-8/LC_NUMERIC>, {st_mode=S_IFREG|0644, st_size=50, ...}) = 0\n",
      "12:49:26.346347 mmap(NULL, 50, PROT_READ, MAP_PRIVATE, 3</usr/lib/locale/C.UTF-8/LC_NUMERIC>, 0) = 0x7fb5ff667000\n",
      "12:49:26.346449 close(3</usr/lib/locale/C.UTF-8/LC_NUMERIC>) = 0\n",
      "12:49:26.346664 openat(AT_FDCWD, \"/usr/lib/locale/C.UTF-8/LC_CTYPE\", O_RDONLY|O_CLOEXEC) = 3</usr/lib/locale/C.UTF-8/LC_CTYPE>\n",
      "12:49:26.346812 fstat(3</usr/lib/locale/C.UTF-8/LC_CTYPE>, {st_mode=S_IFREG|0644, st_size=346132, ...}) = 0\n",
      "12:49:26.346957 mmap(NULL, 346132, PROT_READ, MAP_PRIVATE, 3</usr/lib/locale/C.UTF-8/LC_CTYPE>, 0) = 0x7fb5ff612000\n",
      "12:49:26.347047 close(3</usr/lib/locale/C.UTF-8/LC_CTYPE>) = 0\n",
      "12:49:26.347172 ioctl(1</dev/pts/3>, TCGETS, {B38400 opost isig icanon echo ...}) = 0\n",
      "12:49:26.347327 ioctl(1</dev/pts/3>, TIOCGWINSZ, {ws_row=24, ws_col=80, ws_xpixel=0, ws_ypixel=0}) = 0\n",
      "12:49:26.347488 openat(AT_FDCWD, \".\", O_RDONLY|O_NONBLOCK|O_CLOEXEC|O_DIRECTORY) = 3</workspaces/hdf5-tutorial/libs/strace_miner/dev>\n",
      "12:49:26.347593 fstat(3</workspaces/hdf5-tutorial/libs/strace_miner/dev>, {st_mode=S_IFDIR|0755, st_size=4096, ...}) = 0\n",
      "12:49:26.347717 getdents64(3</workspaces/hdf5-tutorial/libs/strace_miner/dev>, 0x563153553f60 /* 27 entries */, 32768) = 1064\n",
      "12:49:26.347867 getdents64(3</workspaces/hdf5-tutorial/libs/strace_miner/dev>, 0x563153553f60 /* 0 entries */, 32768) = 0\n",
      "12:49:26.347964 close(3</workspaces/hdf5-tutorial/libs/strace_miner/dev>) = 0\n",
      "12:49:26.348109 fstat(1</dev/pts/3>, {st_mode=S_IFCHR|0620, st_rdev=makedev(0x88, 0x3), ...}) = 0\n",
      "12:49:26.348237 write(1</dev/pts/3>, \"-e\\t\\t\\t\\t04-dev-IOMinerV3.ipynb\\t   \"..., 49-e\t\t\t\t04-dev-IOMinerV3.ipynb\t     Digraph.gv.png\n",
      ") = 49\n",
      "12:49:26.348350 write(1</dev/pts/3>, \"00-prepare-eg.ipynb\\t\\t04-test-IOM\"..., 6900-prepare-eg.ipynb\t\t04-test-IOMinerV3.ipynb      X1-pm4py-dfg.ipynb\n",
      ") = 69\n",
      "12:49:26.348494 write(1</dev/pts/3>, \"01A-dev-StraceLineReader.ipynb\\t0\"..., 6101A-dev-StraceLineReader.ipynb\t05-sm-wrapper.ipynb\t     data\n",
      ") = 61\n",
      "12:49:26.348756 write(1</dev/pts/3>, \"01B-dev-Preprocessor.ipynb\\t05-te\"..., 6001B-dev-Preprocessor.ipynb\t05-test-wrapper.ipynb\t     graph\n",
      ") = 60\n",
      "12:49:26.348940 write(1</dev/pts/3>, \"01C-dev-Miner.ipynb\\t\\t06-dev-IOMi\"..., 5401C-dev-Miner.ipynb\t\t06-dev-IOMinerV4.ipynb\t     logs\n",
      ") = 54\n",
      "12:49:26.349052 write(1</dev/pts/3>, \"02-dev-IOMinerV1.ipynb\\t\\t06-test-\"..., 5702-dev-IOMinerV1.ipynb\t\t06-test-IOMinerV4.ipynb      old\n",
      ") = 57\n",
      "12:49:26.349206 write(1</dev/pts/3>, \"02-test-IOMinerV1.ipynb\\t\\t07-dev-\"..., 5802-test-IOMinerV1.ipynb\t\t07-dev-DFGVisualizer.ipynb   src\n",
      ") = 58\n",
      "12:49:26.349394 write(1</dev/pts/3>, \"03-dev-IOMinerV2.ipynb\\t\\t07-test-\"..., 5203-dev-IOMinerV2.ipynb\t\t07-test-DFGVisualizer.ipynb\n",
      ") = 52\n",
      "12:49:26.349505 write(1</dev/pts/3>, \"03-test-IOMinerV2.ipynb\\t\\tDigraph\"..., 3603-test-IOMinerV2.ipynb\t\tDigraph.gv\n",
      ") = 36\n",
      "12:49:26.349631 close(1</dev/pts/3>)    = 0\n",
      "12:49:26.349731 close(2</dev/pts/3>)    = 0\n",
      "12:49:26.349902 exit_group(0)           = ?\n",
      "12:49:26.350135 +++ exited with 0 +++\n"
     ]
    }
   ],
   "source": [
    "!strace -tt -y ls"
   ]
  },
  {
   "cell_type": "code",
   "execution_count": null,
   "metadata": {},
   "outputs": [],
   "source": []
  }
 ],
 "metadata": {
  "kernelspec": {
   "display_name": "hdf5-tutorial",
   "language": "python",
   "name": "python3"
  },
  "language_info": {
   "codemirror_mode": {
    "name": "ipython",
    "version": 3
   },
   "file_extension": ".py",
   "mimetype": "text/x-python",
   "name": "python",
   "nbconvert_exporter": "python",
   "pygments_lexer": "ipython3",
   "version": "3.12.1"
  }
 },
 "nbformat": 4,
 "nbformat_minor": 2
}
