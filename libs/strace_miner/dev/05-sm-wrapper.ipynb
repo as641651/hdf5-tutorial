{
 "cells": [
  {
   "cell_type": "markdown",
   "metadata": {},
   "source": [
    "Wrapper (serial)"
   ]
  },
  {
   "cell_type": "code",
   "execution_count": 6,
   "metadata": {},
   "outputs": [
    {
     "name": "stdout",
     "output_type": "stream",
     "text": [
      "Overwriting src/sms.sh\n"
     ]
    }
   ],
   "source": [
    "%%writefile src/sms.sh\n",
    "\n",
    "#!/bin/bash\n",
    "LOG_FILE=\"logs/sms.st\"\n",
    "strace -f -tt -T -r -y -o \"$LOG_FILE\" \"$@\""
   ]
  },
  {
   "cell_type": "code",
   "execution_count": 7,
   "metadata": {},
   "outputs": [],
   "source": [
    "!chmod +x src/sms.sh"
   ]
  },
  {
   "cell_type": "markdown",
   "metadata": {},
   "source": [
    "Usage"
   ]
  },
  {
   "cell_type": "code",
   "execution_count": 49,
   "metadata": {},
   "outputs": [
    {
     "name": "stdout",
     "output_type": "stream",
     "text": [
      "-e\n",
      "00-prepare-eg.ipynb\n",
      "01A-devCore-LineReader.ipynb\n",
      "01B-devCore-Preprocessor.ipynb\n",
      "01C-devCore-StraceAnalyzer.ipynb\n",
      "02-dev-View1.ipynb\n",
      "02-test-view1.ipynb\n",
      "03-dev-View2.ipynb\n",
      "03-test-view2.ipynb\n",
      "04-dev-view3.ipynb\n",
      "04-test-view3.ipynb\n",
      "05-sm-wrapper.ipynb\n",
      "05-test-wrapper.ipynb\n",
      "06-dev-view4.ipynb\n",
      "data\n",
      "logs\n",
      "old\n",
      "src\n"
     ]
    }
   ],
   "source": [
    "%%bash\n",
    "./src/sms.sh ls"
   ]
  },
  {
   "cell_type": "code",
   "execution_count": 50,
   "metadata": {},
   "outputs": [
    {
     "name": "stdout",
     "output_type": "stream",
     "text": [
      "CSV log path: logs/sms.csv\n"
     ]
    },
    {
     "name": "stderr",
     "output_type": "stream",
     "text": [
      "/home/vscode/.local/lib/python3.12/site-packages/pm4py/utils.py:538: UserWarning: the EventLog class has been deprecated and will be removed in a future release.\n",
      "  warnings.warn(\"the EventLog class has been deprecated and will be removed in a future release.\")\n"
     ]
    },
    {
     "data": {
      "text/html": [
       "<div>\n",
       "<style scoped>\n",
       "    .dataframe tbody tr th:only-of-type {\n",
       "        vertical-align: middle;\n",
       "    }\n",
       "\n",
       "    .dataframe tbody tr th {\n",
       "        vertical-align: top;\n",
       "    }\n",
       "\n",
       "    .dataframe thead th {\n",
       "        text-align: right;\n",
       "    }\n",
       "</style>\n",
       "<table border=\"1\" class=\"dataframe\">\n",
       "  <thead>\n",
       "    <tr style=\"text-align: right;\">\n",
       "      <th></th>\n",
       "      <th>call</th>\n",
       "      <th>duration</th>\n",
       "      <th>percent</th>\n",
       "    </tr>\n",
       "  </thead>\n",
       "  <tbody>\n",
       "    <tr>\n",
       "      <th>0</th>\n",
       "      <td>[read, [&lt;4KB], /lib/x86_64-linux-gnu]</td>\n",
       "      <td>0.000277</td>\n",
       "      <td>0.810605</td>\n",
       "    </tr>\n",
       "    <tr>\n",
       "      <th>1</th>\n",
       "      <td>[read, [&lt;4KB], /proc/filesystems]</td>\n",
       "      <td>0.000177</td>\n",
       "      <td>0.517968</td>\n",
       "    </tr>\n",
       "    <tr>\n",
       "      <th>2</th>\n",
       "      <td>[read, [&lt;4KB], /usr/lib]</td>\n",
       "      <td>0.000065</td>\n",
       "      <td>0.190214</td>\n",
       "    </tr>\n",
       "    <tr>\n",
       "      <th>3</th>\n",
       "      <td>[read, [&lt;4MB], /etc/locale.alias]</td>\n",
       "      <td>0.000153</td>\n",
       "      <td>0.447735</td>\n",
       "    </tr>\n",
       "    <tr>\n",
       "      <th>4</th>\n",
       "      <td>[write, [&lt;4KB], pipe:[630695]]</td>\n",
       "      <td>0.000060</td>\n",
       "      <td>0.175582</td>\n",
       "    </tr>\n",
       "  </tbody>\n",
       "</table>\n",
       "</div>"
      ],
      "text/plain": [
       "                                    call  duration   percent\n",
       "0  [read, [<4KB], /lib/x86_64-linux-gnu]  0.000277  0.810605\n",
       "1      [read, [<4KB], /proc/filesystems]  0.000177  0.517968\n",
       "2               [read, [<4KB], /usr/lib]  0.000065  0.190214\n",
       "3      [read, [<4MB], /etc/locale.alias]  0.000153  0.447735\n",
       "4         [write, [<4KB], pipe:[630695]]  0.000060  0.175582"
      ]
     },
     "execution_count": 50,
     "metadata": {},
     "output_type": "execute_result"
    }
   ],
   "source": [
    "from strace_miner.views.v3 import IOMinerV3\n",
    "from strace_miner.views.v3 import IOLineReaderV3\n",
    "\n",
    "io_calls = ['read','write']\n",
    "line_reader = IOLineReaderV3(['/workspaces/',],collapse=False)\n",
    "sta = IOMinerV3([\"logs/sms.st\",],io_calls,line_reader)\n",
    "sta.preprocess()\n",
    "sta.prepare_summaries_and_event_log()\n",
    "sta.prepare_dfg()\n",
    "sta.activities_summary['sms']"
   ]
  },
  {
   "cell_type": "code",
   "execution_count": 51,
   "metadata": {},
   "outputs": [
    {
     "data": {
      "image/png": "[encoded data removed]",
      "text/plain": [
       "<IPython.core.display.Image object>"
      ]
     },
     "metadata": {},
     "output_type": "display_data"
    }
   ],
   "source": [
    "sta.view_dfg()"
   ]
  },
  {
   "cell_type": "markdown",
   "metadata": {},
   "source": [
    "Wrapper (parallel)"
   ]
  },
  {
   "cell_type": "code",
   "execution_count": 41,
   "metadata": {},
   "outputs": [
    {
     "name": "stdout",
     "output_type": "stream",
     "text": [
      "Overwriting src/smp.sh\n"
     ]
    }
   ],
   "source": [
    "%%writefile src/smp.sh\n",
    "\n",
    "#!/bin/bash\n",
    "LOG_FILE=\"logs/$1_$(hostname)_$$.st\"\n",
    "echo $LOG_FILE\n",
    "strace -f -tt -T -r -y -o \"$LOG_FILE\" \"$@\""
   ]
  },
  {
   "cell_type": "code",
   "execution_count": 42,
   "metadata": {},
   "outputs": [],
   "source": [
    "!chmod +x src/smp.sh"
   ]
  },
  {
   "cell_type": "markdown",
   "metadata": {},
   "source": [
    "Usage"
   ]
  },
  {
   "cell_type": "code",
   "execution_count": 44,
   "metadata": {},
   "outputs": [
    {
     "name": "stdout",
     "output_type": "stream",
     "text": [
      "logs/lscpu_a65243794be3_11295.st\n",
      "Architecture:                       x86_64\n",
      "CPU op-mode(s):                     32-bit, 64-bit\n",
      "Byte Order:                         Little Endian\n",
      "Address sizes:                      39 bits physical, 48 bits virtual\n",
      "CPU(s):                             16\n",
      "On-line CPU(s) list:                0-15\n",
      "Thread(s) per core:                 2\n",
      "Core(s) per socket:                 8\n",
      "Socket(s):                          1\n",
      "Vendor ID:                          GenuineIntel\n",
      "CPU family:                         6\n",
      "Model:                              154\n",
      "Model name:                         12th Gen Intel(R) Core(TM) i7-1260P\n",
      "Stepping:                           3\n",
      "CPU MHz:                            2496.011\n",
      "BogoMIPS:                           4992.02\n",
      "Virtualization:                     VT-x\n",
      "Hypervisor vendor:                  Microsoft\n",
      "Virtualization type:                full\n",
      "L1d cache:                          384 KiB\n",
      "L1i cache:                          256 KiB\n",
      "L2 cache:                           10 MiB\n",
      "L3 cache:                           18 MiB\n",
      "Vulnerability Gather data sampling: Not affected\n",
      "Vulnerability Itlb multihit:        Not affected\n",
      "Vulnerability L1tf:                 Not affected\n",
      "Vulnerability Mds:                  Not affected\n",
      "Vulnerability Meltdown:             Not affected\n",
      "Vulnerability Mmio stale data:      Not affected\n",
      "Vulnerability Retbleed:             Mitigation; Enhanced IBRS\n",
      "Vulnerability Spec rstack overflow: Not affected\n",
      "Vulnerability Spec store bypass:    Mitigation; Speculative Store Bypass disabled via prctl and seccomp\n",
      "Vulnerability Spectre v1:           Mitigation; usercopy/swapgs barriers and __user pointer sanitization\n",
      "Vulnerability Spectre v2:           Mitigation; Enhanced IBRS, IBPB conditional, RSB filling, PBRSB-eIBRS SW sequence\n",
      "Vulnerability Srbds:                Not affected\n",
      "Vulnerability Tsx async abort:      Not affected\n",
      "Flags:                              fpu vme de pse tsc msr pae mce cx8 apic sep mtrr pge mca cmov pat pse36 clflush mmx fxsr sse sse2 ss ht syscall nx pdpe1gb rdtscp lm constant_tsc rep_good nopl xtopology tsc_reliable nonstop_tsc cpuid pni pclmulqdq vmx ssse3 fma cx16 sse4_1 sse4_2 x2apic movbe popcnt tsc_deadline_timer aes xsave avx f16c rdrand hypervisor lahf_lm abm 3dnowprefetch ssbd ibrs ibpb stibp ibrs_enhanced tpr_shadow vnmi ept vpid ept_ad fsgsbase tsc_adjust bmi1 avx2 smep bmi2 erms invpcid rdseed adx smap clflushopt clwb sha_ni xsaveopt xsavec xgetbv1 xsaves avx_vnni umip waitpkg gfni vaes vpclmulqdq rdpid movdiri movdir64b fsrm serialize flush_l1d arch_capabilities\n"
     ]
    }
   ],
   "source": [
    "%%bash\n",
    "./src/smp.sh lscpu"
   ]
  },
  {
   "cell_type": "code",
   "execution_count": 48,
   "metadata": {},
   "outputs": [
    {
     "name": "stdout",
     "output_type": "stream",
     "text": [
      "logs/ls_a65243794be3_12899.st\n",
      "logs/ls_a65243794be3_12900.st\n",
      "-e\t\t\t\t  02-test-view1.ipynb  data\n",
      "00-prepare-eg.ipynb\t\t  03-dev-View2.ipynb   logs\n",
      "01A-devCore-LineReader.ipynb\t  03-test-view2.ipynb  old\n",
      "01B-devCore-Preprocessor.ipynb\t  04-dev-view3.ipynb   src\n",
      "01C-devCore-StraceAnalyzer.ipynb  04-test-view3.ipynb\n",
      "02-dev-View1.ipynb\t\t  05-sm-wrapper.ipynb\n",
      "-e\t\t\t\t  02-test-view1.ipynb  data\n",
      "00-prepare-eg.ipynb\t\t  03-dev-View2.ipynb   logs\n",
      "01A-devCore-LineReader.ipynb\t  03-test-view2.ipynb  old\n",
      "01B-devCore-Preprocessor.ipynb\t  04-dev-view3.ipynb   src\n",
      "01C-devCore-StraceAnalyzer.ipynb  04-test-view3.ipynb\n",
      "02-dev-View1.ipynb\t\t  05-sm-wrapper.ipynb\n"
     ]
    }
   ],
   "source": [
    "!mpiexec -n 2 bash src/smp.sh ls"
   ]
  },
  {
   "cell_type": "code",
   "execution_count": 54,
   "metadata": {},
   "outputs": [
    {
     "name": "stdout",
     "output_type": "stream",
     "text": [
      "12:03:56.370504 execve(\"/bin/ls\", [\"ls\"], 0x7ffe850e42c0 /* 59 vars */) = 0\n",
      "12:03:56.370934 brk(NULL)               = 0x558500f21000\n",
      "12:03:56.371056 access(\"/etc/ld.so.preload\", R_OK) = -1 ENOENT (No such file or directory)\n",
      "12:03:56.371171 openat(AT_FDCWD, \"/etc/ld.so.cache\", O_RDONLY|O_CLOEXEC) = 3</etc/ld.so.cache>\n",
      "12:03:56.371571 fstat(3</etc/ld.so.cache>, {st_mode=S_IFREG|0644, st_size=39386, ...}) = 0\n",
      "12:03:56.371709 mmap(NULL, 39386, PROT_READ, MAP_PRIVATE, 3</etc/ld.so.cache>, 0) = 0x7f2e3c087000\n",
      "12:03:56.371811 close(3</etc/ld.so.cache>) = 0\n",
      "12:03:56.371904 openat(AT_FDCWD, \"/lib/x86_64-linux-gnu/libselinux.so.1\", O_RDONLY|O_CLOEXEC) = 3</lib/x86_64-linux-gnu/libselinux.so.1>\n",
      "12:03:56.371999 read(3</lib/x86_64-linux-gnu/libselinux.so.1>, \"\\177ELF\\2\\1\\1\\0\\0\\0\\0\\0\\0\\0\\0\\0\\3\\0>\\0\\1\\0\\0\\0\\220}\\0\\0\\0\\0\\0\\0\"..., 832) = 832\n",
      "12:03:56.372090 fstat(3</lib/x86_64-linux-gnu/libselinux.so.1>, {st_mode=S_IFREG|0644, st_size=166120, ...}) = 0\n",
      "12:03:56.372180 mmap(NULL, 8192, PROT_READ|PROT_WRITE, MAP_PRIVATE|MAP_ANONYMOUS, -1, 0) = 0x7f2e3c085000\n",
      "12:03:56.372276 mmap(NULL, 177672, PROT_READ, MAP_PRIVATE|MAP_DENYWRITE, 3</lib/x86_64-linux-gnu/libselinux.so.1>, 0) = 0x7f2e3c059000\n",
      "12:03:56.372518 mmap(0x7f2e3c060000, 102400, PROT_READ|PROT_EXEC, MAP_PRIVATE|MAP_FIXED|MAP_DENYWRITE, 3</lib/x86_64-linux-gnu/libselinux.so.1>, 0x7000) = 0x7f2e3c060000\n",
      "12:03:56.372641 mmap(0x7f2e3c079000, 32768, PROT_READ, MAP_PRIVATE|MAP_FIXED|MAP_DENYWRITE, 3</lib/x86_64-linux-gnu/libselinux.so.1>, 0x20000) = 0x7f2e3c079000\n",
      "12:03:56.372737 mmap(0x7f2e3c081000, 8192, PROT_READ|PROT_WRITE, MAP_PRIVATE|MAP_FIXED|MAP_DENYWRITE, 3</lib/x86_64-linux-gnu/libselinux.so.1>, 0x27000) = 0x7f2e3c081000\n",
      "12:03:56.372830 mmap(0x7f2e3c083000, 5640, PROT_READ|PROT_WRITE, MAP_PRIVATE|MAP_FIXED|MAP_ANONYMOUS, -1, 0) = 0x7f2e3c083000\n",
      "12:03:56.372923 close(3</lib/x86_64-linux-gnu/libselinux.so.1>) = 0\n",
      "12:03:56.373014 openat(AT_FDCWD, \"/lib/x86_64-linux-gnu/libc.so.6\", O_RDONLY|O_CLOEXEC) = 3</lib/x86_64-linux-gnu/libc-2.31.so>\n",
      "12:03:56.373107 read(3</lib/x86_64-linux-gnu/libc-2.31.so>, \"\\177ELF\\2\\1\\1\\3\\0\\0\\0\\0\\0\\0\\0\\0\\3\\0>\\0\\1\\0\\0\\0@>\\2\\0\\0\\0\\0\\0\"..., 832) = 832\n",
      "12:03:56.373203 fstat(3</lib/x86_64-linux-gnu/libc-2.31.so>, {st_mode=S_IFREG|0755, st_size=1901536, ...}) = 0\n",
      "12:03:56.373293 mmap(NULL, 1914496, PROT_READ, MAP_PRIVATE|MAP_DENYWRITE, 3</lib/x86_64-linux-gnu/libc-2.31.so>, 0) = 0x7f2e3be85000\n",
      "12:03:56.373536 mmap(0x7f2e3bea7000, 1413120, PROT_READ|PROT_EXEC, MAP_PRIVATE|MAP_FIXED|MAP_DENYWRITE, 3</lib/x86_64-linux-gnu/libc-2.31.so>, 0x22000) = 0x7f2e3bea7000\n",
      "12:03:56.373646 mmap(0x7f2e3c000000, 323584, PROT_READ, MAP_PRIVATE|MAP_FIXED|MAP_DENYWRITE, 3</lib/x86_64-linux-gnu/libc-2.31.so>, 0x17b000) = 0x7f2e3c000000\n",
      "12:03:56.373750 mmap(0x7f2e3c04f000, 24576, PROT_READ|PROT_WRITE, MAP_PRIVATE|MAP_FIXED|MAP_DENYWRITE, 3</lib/x86_64-linux-gnu/libc-2.31.so>, 0x1c9000) = 0x7f2e3c04f000\n",
      "12:03:56.373844 mmap(0x7f2e3c055000, 13952, PROT_READ|PROT_WRITE, MAP_PRIVATE|MAP_FIXED|MAP_ANONYMOUS, -1, 0) = 0x7f2e3c055000\n",
      "12:03:56.374093 close(3</lib/x86_64-linux-gnu/libc-2.31.so>) = 0\n",
      "12:03:56.374192 openat(AT_FDCWD, \"/usr/lib/x86_64-linux-gnu/libpcre2-8.so.0\", O_RDONLY|O_CLOEXEC) = 3</usr/lib/x86_64-linux-gnu/libpcre2-8.so.0.10.1>\n",
      "12:03:56.374287 read(3</usr/lib/x86_64-linux-gnu/libpcre2-8.so.0.10.1>, \"\\177ELF\\2\\1\\1\\0\\0\\0\\0\\0\\0\\0\\0\\0\\3\\0>\\0\\1\\0\\0\\0\\200\\\"\\0\\0\\0\\0\\0\\0\"..., 832) = 832\n",
      "12:03:56.374380 fstat(3</usr/lib/x86_64-linux-gnu/libpcre2-8.so.0.10.1>, {st_mode=S_IFREG|0644, st_size=617128, ...}) = 0\n",
      "12:03:56.374469 mmap(NULL, 619432, PROT_READ, MAP_PRIVATE|MAP_DENYWRITE, 3</usr/lib/x86_64-linux-gnu/libpcre2-8.so.0.10.1>, 0) = 0x7f2e3bded000\n",
      "12:03:56.374561 mmap(0x7f2e3bdef000, 438272, PROT_READ|PROT_EXEC, MAP_PRIVATE|MAP_FIXED|MAP_DENYWRITE, 3</usr/lib/x86_64-linux-gnu/libpcre2-8.so.0.10.1>, 0x2000) = 0x7f2e3bdef000\n",
      "12:03:56.374653 mmap(0x7f2e3be5a000, 167936, PROT_READ, MAP_PRIVATE|MAP_FIXED|MAP_DENYWRITE, 3</usr/lib/x86_64-linux-gnu/libpcre2-8.so.0.10.1>, 0x6d000) = 0x7f2e3be5a000\n",
      "12:03:56.374760 mmap(0x7f2e3be83000, 8192, PROT_READ|PROT_WRITE, MAP_PRIVATE|MAP_FIXED|MAP_DENYWRITE, 3</usr/lib/x86_64-linux-gnu/libpcre2-8.so.0.10.1>, 0x95000) = 0x7f2e3be83000\n",
      "12:03:56.374859 close(3</usr/lib/x86_64-linux-gnu/libpcre2-8.so.0.10.1>) = 0\n",
      "12:03:56.375180 openat(AT_FDCWD, \"/lib/x86_64-linux-gnu/libdl.so.2\", O_RDONLY|O_CLOEXEC) = 3</lib/x86_64-linux-gnu/libdl-2.31.so>\n",
      "12:03:56.375280 read(3</lib/x86_64-linux-gnu/libdl-2.31.so>, \"\\177ELF\\2\\1\\1\\0\\0\\0\\0\\0\\0\\0\\0\\0\\3\\0>\\0\\1\\0\\0\\0000\\21\\0\\0\\0\\0\\0\\0\"..., 832) = 832\n",
      "12:03:56.375378 fstat(3</lib/x86_64-linux-gnu/libdl-2.31.so>, {st_mode=S_IFREG|0644, st_size=18688, ...}) = 0\n",
      "12:03:56.375487 mmap(NULL, 20752, PROT_READ, MAP_PRIVATE|MAP_DENYWRITE, 3</lib/x86_64-linux-gnu/libdl-2.31.so>, 0) = 0x7f2e3bde7000\n",
      "12:03:56.375582 mmap(0x7f2e3bde8000, 8192, PROT_READ|PROT_EXEC, MAP_PRIVATE|MAP_FIXED|MAP_DENYWRITE, 3</lib/x86_64-linux-gnu/libdl-2.31.so>, 0x1000) = 0x7f2e3bde8000\n",
      "12:03:56.375673 mmap(0x7f2e3bdea000, 4096, PROT_READ, MAP_PRIVATE|MAP_FIXED|MAP_DENYWRITE, 3</lib/x86_64-linux-gnu/libdl-2.31.so>, 0x3000) = 0x7f2e3bdea000\n",
      "12:03:56.375765 mmap(0x7f2e3bdeb000, 8192, PROT_READ|PROT_WRITE, MAP_PRIVATE|MAP_FIXED|MAP_DENYWRITE, 3</lib/x86_64-linux-gnu/libdl-2.31.so>, 0x3000) = 0x7f2e3bdeb000\n",
      "12:03:56.375861 close(3</lib/x86_64-linux-gnu/libdl-2.31.so>) = 0\n",
      "12:03:56.375953 openat(AT_FDCWD, \"/lib/x86_64-linux-gnu/libpthread.so.0\", O_RDONLY|O_CLOEXEC) = 3</lib/x86_64-linux-gnu/libpthread-2.31.so>\n",
      "12:03:56.376045 read(3</lib/x86_64-linux-gnu/libpthread-2.31.so>, \"\\177ELF\\2\\1\\1\\0\\0\\0\\0\\0\\0\\0\\0\\0\\3\\0>\\0\\1\\0\\0\\0 l\\0\\0\\0\\0\\0\\0\"..., 832) = 832\n",
      "12:03:56.376134 fstat(3</lib/x86_64-linux-gnu/libpthread-2.31.so>, {st_mode=S_IFREG|0755, st_size=149520, ...}) = 0\n",
      "12:03:56.376222 mmap(NULL, 136304, PROT_READ, MAP_PRIVATE|MAP_DENYWRITE, 3</lib/x86_64-linux-gnu/libpthread-2.31.so>, 0) = 0x7f2e3bdc5000\n",
      "12:03:56.376310 mmap(0x7f2e3bdcb000, 65536, PROT_READ|PROT_EXEC, MAP_PRIVATE|MAP_FIXED|MAP_DENYWRITE, 3</lib/x86_64-linux-gnu/libpthread-2.31.so>, 0x6000) = 0x7f2e3bdcb000\n",
      "12:03:56.376400 mmap(0x7f2e3bddb000, 24576, PROT_READ, MAP_PRIVATE|MAP_FIXED|MAP_DENYWRITE, 3</lib/x86_64-linux-gnu/libpthread-2.31.so>, 0x16000) = 0x7f2e3bddb000\n",
      "12:03:56.376489 mmap(0x7f2e3bde1000, 8192, PROT_READ|PROT_WRITE, MAP_PRIVATE|MAP_FIXED|MAP_DENYWRITE, 3</lib/x86_64-linux-gnu/libpthread-2.31.so>, 0x1b000) = 0x7f2e3bde1000\n",
      "12:03:56.376579 mmap(0x7f2e3bde3000, 13424, PROT_READ|PROT_WRITE, MAP_PRIVATE|MAP_FIXED|MAP_ANONYMOUS, -1, 0) = 0x7f2e3bde3000\n",
      "12:03:56.376848 close(3</lib/x86_64-linux-gnu/libpthread-2.31.so>) = 0\n",
      "12:03:56.376962 mmap(NULL, 8192, PROT_READ|PROT_WRITE, MAP_PRIVATE|MAP_ANONYMOUS, -1, 0) = 0x7f2e3bdc3000\n",
      "12:03:56.377062 arch_prctl(ARCH_SET_FS, 0x7f2e3bdc4400) = 0\n",
      "12:03:56.377182 mprotect(0x7f2e3c04f000, 16384, PROT_READ) = 0\n",
      "12:03:56.377275 mprotect(0x7f2e3bde1000, 4096, PROT_READ) = 0\n",
      "12:03:56.377365 mprotect(0x7f2e3bdeb000, 4096, PROT_READ) = 0\n",
      "12:03:56.377453 mprotect(0x7f2e3be83000, 4096, PROT_READ) = 0\n",
      "12:03:56.377568 mprotect(0x7f2e3c081000, 4096, PROT_READ) = 0\n",
      "12:03:56.377660 mprotect(0x5584ff9db000, 4096, PROT_READ) = 0\n",
      "12:03:56.377748 mprotect(0x7f2e3c0bb000, 4096, PROT_READ) = 0\n",
      "12:03:56.377836 munmap(0x7f2e3c087000, 39386) = 0\n",
      "12:03:56.377930 set_tid_address(0x7f2e3bdc46d0) = 43219\n",
      "12:03:56.378018 set_robust_list(0x7f2e3bdc46e0, 24) = 0\n",
      "12:03:56.378110 rt_sigaction(SIGRTMIN, {sa_handler=0x7f2e3bdcb690, sa_mask=[], sa_flags=SA_RESTORER|SA_SIGINFO, sa_restorer=0x7f2e3bdd8140}, NULL, 8) = 0\n",
      "12:03:56.378201 rt_sigaction(SIGRT_1, {sa_handler=0x7f2e3bdcb730, sa_mask=[], sa_flags=SA_RESTORER|SA_RESTART|SA_SIGINFO, sa_restorer=0x7f2e3bdd8140}, NULL, 8) = 0\n",
      "12:03:56.378290 rt_sigprocmask(SIG_UNBLOCK, [RTMIN RT_1], NULL, 8) = 0\n",
      "12:03:56.378385 prlimit64(0, RLIMIT_STACK, NULL, {rlim_cur=8192*1024, rlim_max=RLIM64_INFINITY}) = 0\n",
      "12:03:56.378522 statfs(\"/sys/fs/selinux\", 0x7ffe343894b0) = -1 ENOENT (No such file or directory)\n",
      "12:03:56.378623 statfs(\"/selinux\", 0x7ffe343894b0) = -1 ENOENT (No such file or directory)\n",
      "12:03:56.378739 brk(NULL)               = 0x558500f21000\n",
      "12:03:56.378823 brk(0x558500f42000)     = 0x558500f42000\n",
      "12:03:56.378913 openat(AT_FDCWD, \"/proc/filesystems\", O_RDONLY|O_CLOEXEC) = 3</proc/filesystems>\n",
      "12:03:56.379007 fstat(3</proc/filesystems>, {st_mode=S_IFREG|0444, st_size=0, ...}) = 0\n",
      "12:03:56.379095 read(3</proc/filesystems>, \"nodev\\tsysfs\\nnodev\\ttmpfs\\nnodev\\tbd\"..., 1024) = 478\n",
      "12:03:56.379202 read(3</proc/filesystems>, \"\", 1024) = 0\n",
      "12:03:56.379289 close(3</proc/filesystems>) = 0\n",
      "12:03:56.379378 access(\"/etc/selinux/config\", F_OK) = -1 ENOENT (No such file or directory)\n",
      "12:03:56.379487 openat(AT_FDCWD, \"/usr/lib/locale/locale-archive\", O_RDONLY|O_CLOEXEC) = 3</usr/lib/locale/locale-archive>\n",
      "12:03:56.379804 fstat(3</usr/lib/locale/locale-archive>, {st_mode=S_IFREG|0644, st_size=3041456, ...}) = 0\n",
      "12:03:56.379922 mmap(NULL, 3041456, PROT_READ, MAP_PRIVATE, 3</usr/lib/locale/locale-archive>, 0) = 0x7f2e3badc000\n",
      "12:03:56.380019 close(3</usr/lib/locale/locale-archive>) = 0\n",
      "12:03:56.380110 openat(AT_FDCWD, \"/usr/share/locale/locale.alias\", O_RDONLY|O_CLOEXEC) = 3</etc/locale.alias>\n",
      "12:03:56.380210 fstat(3</etc/locale.alias>, {st_mode=S_IFREG|0644, st_size=2996, ...}) = 0\n",
      "12:03:56.380302 read(3</etc/locale.alias>, \"# Locale name alias data base.\\n#\"..., 4096) = 2996\n",
      "12:03:56.380419 read(3</etc/locale.alias>, \"\", 4096) = 0\n",
      "12:03:56.380515 close(3</etc/locale.alias>) = 0\n",
      "12:03:56.380611 openat(AT_FDCWD, \"/usr/lib/locale/C.UTF-8/LC_IDENTIFICATION\", O_RDONLY|O_CLOEXEC) = 3</usr/lib/locale/C.UTF-8/LC_IDENTIFICATION>\n",
      "12:03:56.380704 fstat(3</usr/lib/locale/C.UTF-8/LC_IDENTIFICATION>, {st_mode=S_IFREG|0644, st_size=252, ...}) = 0\n",
      "12:03:56.380799 mmap(NULL, 252, PROT_READ, MAP_PRIVATE, 3</usr/lib/locale/C.UTF-8/LC_IDENTIFICATION>, 0) = 0x7f2e3c0ba000\n",
      "12:03:56.380889 close(3</usr/lib/locale/C.UTF-8/LC_IDENTIFICATION>) = 0\n",
      "12:03:56.380983 openat(AT_FDCWD, \"/usr/lib/x86_64-linux-gnu/gconv/gconv-modules.cache\", O_RDONLY) = 3</usr/lib/x86_64-linux-gnu/gconv/gconv-modules.cache>\n",
      "12:03:56.381076 fstat(3</usr/lib/x86_64-linux-gnu/gconv/gconv-modules.cache>, {st_mode=S_IFREG|0644, st_size=27002, ...}) = 0\n",
      "12:03:56.381338 mmap(NULL, 27002, PROT_READ, MAP_SHARED, 3</usr/lib/x86_64-linux-gnu/gconv/gconv-modules.cache>, 0) = 0x7f2e3c08a000\n",
      "12:03:56.381435 close(3</usr/lib/x86_64-linux-gnu/gconv/gconv-modules.cache>) = 0\n",
      "12:03:56.381527 futex(0x7f2e3c05499c, FUTEX_WAKE_PRIVATE, 2147483647) = 0\n",
      "12:03:56.381618 openat(AT_FDCWD, \"/usr/lib/locale/C.UTF-8/LC_MEASUREMENT\", O_RDONLY|O_CLOEXEC) = 3</usr/lib/locale/C.UTF-8/LC_MEASUREMENT>\n",
      "12:03:56.381712 fstat(3</usr/lib/locale/C.UTF-8/LC_MEASUREMENT>, {st_mode=S_IFREG|0644, st_size=23, ...}) = 0\n",
      "12:03:56.381804 mmap(NULL, 23, PROT_READ, MAP_PRIVATE, 3</usr/lib/locale/C.UTF-8/LC_MEASUREMENT>, 0) = 0x7f2e3c089000\n",
      "12:03:56.381894 close(3</usr/lib/locale/C.UTF-8/LC_MEASUREMENT>) = 0\n",
      "12:03:56.382110 openat(AT_FDCWD, \"/usr/lib/locale/C.UTF-8/LC_TELEPHONE\", O_RDONLY|O_CLOEXEC) = 3</usr/lib/locale/C.UTF-8/LC_TELEPHONE>\n",
      "12:03:56.382447 fstat(3</usr/lib/locale/C.UTF-8/LC_TELEPHONE>, {st_mode=S_IFREG|0644, st_size=47, ...}) = 0\n",
      "12:03:56.382573 mmap(NULL, 47, PROT_READ, MAP_PRIVATE, 3</usr/lib/locale/C.UTF-8/LC_TELEPHONE>, 0) = 0x7f2e3c088000\n",
      "12:03:56.382783 close(3</usr/lib/locale/C.UTF-8/LC_TELEPHONE>) = 0\n",
      "12:03:56.383014 openat(AT_FDCWD, \"/usr/lib/locale/C.UTF-8/LC_ADDRESS\", O_RDONLY|O_CLOEXEC) = 3</usr/lib/locale/C.UTF-8/LC_ADDRESS>\n",
      "12:03:56.383241 fstat(3</usr/lib/locale/C.UTF-8/LC_ADDRESS>, {st_mode=S_IFREG|0644, st_size=131, ...}) = 0\n",
      "12:03:56.383335 mmap(NULL, 131, PROT_READ, MAP_PRIVATE, 3</usr/lib/locale/C.UTF-8/LC_ADDRESS>, 0) = 0x7f2e3c087000\n",
      "12:03:56.383425 close(3</usr/lib/locale/C.UTF-8/LC_ADDRESS>) = 0\n",
      "12:03:56.383522 openat(AT_FDCWD, \"/usr/lib/locale/C.UTF-8/LC_NAME\", O_RDONLY|O_CLOEXEC) = 3</usr/lib/locale/C.UTF-8/LC_NAME>\n",
      "12:03:56.383631 fstat(3</usr/lib/locale/C.UTF-8/LC_NAME>, {st_mode=S_IFREG|0644, st_size=62, ...}) = 0\n",
      "12:03:56.383724 mmap(NULL, 62, PROT_READ, MAP_PRIVATE, 3</usr/lib/locale/C.UTF-8/LC_NAME>, 0) = 0x7f2e3badb000\n",
      "12:03:56.383970 close(3</usr/lib/locale/C.UTF-8/LC_NAME>) = 0\n",
      "12:03:56.384073 openat(AT_FDCWD, \"/usr/lib/locale/C.UTF-8/LC_PAPER\", O_RDONLY|O_CLOEXEC) = 3</usr/lib/locale/C.UTF-8/LC_PAPER>\n",
      "12:03:56.384225 fstat(3</usr/lib/locale/C.UTF-8/LC_PAPER>, {st_mode=S_IFREG|0644, st_size=34, ...}) = 0\n",
      "12:03:56.384323 mmap(NULL, 34, PROT_READ, MAP_PRIVATE, 3</usr/lib/locale/C.UTF-8/LC_PAPER>, 0) = 0x7f2e3bada000\n",
      "12:03:56.384441 close(3</usr/lib/locale/C.UTF-8/LC_PAPER>) = 0\n",
      "12:03:56.384778 openat(AT_FDCWD, \"/usr/lib/locale/C.UTF-8/LC_MESSAGES\", O_RDONLY|O_CLOEXEC) = 3</usr/lib/locale/C.UTF-8/LC_MESSAGES>\n",
      "12:03:56.384881 fstat(3</usr/lib/locale/C.UTF-8/LC_MESSAGES>, {st_mode=S_IFDIR|0755, st_size=4096, ...}) = 0\n",
      "12:03:56.385031 close(3</usr/lib/locale/C.UTF-8/LC_MESSAGES>) = 0\n",
      "12:03:56.385123 openat(AT_FDCWD, \"/usr/lib/locale/C.UTF-8/LC_MESSAGES/SYS_LC_MESSAGES\", O_RDONLY|O_CLOEXEC) = 3</usr/lib/locale/C.UTF-8/LC_MESSAGES/SYS_LC_MESSAGES>\n",
      "12:03:56.385215 fstat(3</usr/lib/locale/C.UTF-8/LC_MESSAGES/SYS_LC_MESSAGES>, {st_mode=S_IFREG|0644, st_size=48, ...}) = 0\n",
      "12:03:56.385305 mmap(NULL, 48, PROT_READ, MAP_PRIVATE, 3</usr/lib/locale/C.UTF-8/LC_MESSAGES/SYS_LC_MESSAGES>, 0) = 0x7f2e3bad9000\n",
      "12:03:56.385397 close(3</usr/lib/locale/C.UTF-8/LC_MESSAGES/SYS_LC_MESSAGES>) = 0\n",
      "12:03:56.385492 openat(AT_FDCWD, \"/usr/lib/locale/C.UTF-8/LC_MONETARY\", O_RDONLY|O_CLOEXEC) = 3</usr/lib/locale/C.UTF-8/LC_MONETARY>\n",
      "12:03:56.385584 fstat(3</usr/lib/locale/C.UTF-8/LC_MONETARY>, {st_mode=S_IFREG|0644, st_size=270, ...}) = 0\n",
      "12:03:56.385674 mmap(NULL, 270, PROT_READ, MAP_PRIVATE, 3</usr/lib/locale/C.UTF-8/LC_MONETARY>, 0) = 0x7f2e3bad8000\n",
      "12:03:56.385764 close(3</usr/lib/locale/C.UTF-8/LC_MONETARY>) = 0\n",
      "12:03:56.385855 openat(AT_FDCWD, \"/usr/lib/locale/C.UTF-8/LC_COLLATE\", O_RDONLY|O_CLOEXEC) = 3</usr/lib/locale/C.UTF-8/LC_COLLATE>\n",
      "12:03:56.385951 fstat(3</usr/lib/locale/C.UTF-8/LC_COLLATE>, {st_mode=S_IFREG|0644, st_size=1519554, ...}) = 0\n",
      "12:03:56.386044 mmap(NULL, 1519554, PROT_READ, MAP_PRIVATE, 3</usr/lib/locale/C.UTF-8/LC_COLLATE>, 0) = 0x7f2e3b965000\n",
      "12:03:56.386134 close(3</usr/lib/locale/C.UTF-8/LC_COLLATE>) = 0\n",
      "12:03:56.386236 openat(AT_FDCWD, \"/usr/lib/locale/C.UTF-8/LC_TIME\", O_RDONLY|O_CLOEXEC) = 3</usr/lib/locale/C.UTF-8/LC_TIME>\n",
      "12:03:56.386335 fstat(3</usr/lib/locale/C.UTF-8/LC_TIME>, {st_mode=S_IFREG|0644, st_size=3360, ...}) = 0\n",
      "12:03:56.386452 mmap(NULL, 3360, PROT_READ, MAP_PRIVATE, 3</usr/lib/locale/C.UTF-8/LC_TIME>, 0) = 0x7f2e3b964000\n",
      "12:03:56.386535 close(3</usr/lib/locale/C.UTF-8/LC_TIME>) = 0\n",
      "12:03:56.386627 openat(AT_FDCWD, \"/usr/lib/locale/C.UTF-8/LC_NUMERIC\", O_RDONLY|O_CLOEXEC) = 3</usr/lib/locale/C.UTF-8/LC_NUMERIC>\n",
      "12:03:56.386722 fstat(3</usr/lib/locale/C.UTF-8/LC_NUMERIC>, {st_mode=S_IFREG|0644, st_size=50, ...}) = 0\n",
      "12:03:56.386813 mmap(NULL, 50, PROT_READ, MAP_PRIVATE, 3</usr/lib/locale/C.UTF-8/LC_NUMERIC>, 0) = 0x7f2e3b963000\n",
      "12:03:56.386903 close(3</usr/lib/locale/C.UTF-8/LC_NUMERIC>) = 0\n",
      "12:03:56.386993 openat(AT_FDCWD, \"/usr/lib/locale/C.UTF-8/LC_CTYPE\", O_RDONLY|O_CLOEXEC) = 3</usr/lib/locale/C.UTF-8/LC_CTYPE>\n",
      "12:03:56.387086 fstat(3</usr/lib/locale/C.UTF-8/LC_CTYPE>, {st_mode=S_IFREG|0644, st_size=346132, ...}) = 0\n",
      "12:03:56.387177 mmap(NULL, 346132, PROT_READ, MAP_PRIVATE, 3</usr/lib/locale/C.UTF-8/LC_CTYPE>, 0) = 0x7f2e3b90e000\n",
      "12:03:56.387267 close(3</usr/lib/locale/C.UTF-8/LC_CTYPE>) = 0\n",
      "12:03:56.387368 ioctl(1</dev/pts/3>, TCGETS, {B38400 opost isig icanon echo ...}) = 0\n",
      "12:03:56.387473 ioctl(1</dev/pts/3>, TIOCGWINSZ, {ws_row=24, ws_col=80, ws_xpixel=0, ws_ypixel=0}) = 0\n",
      "12:03:56.387773 openat(AT_FDCWD, \".\", O_RDONLY|O_NONBLOCK|O_CLOEXEC|O_DIRECTORY) = 3</workspaces/hdf5-tutorial/libs/strace_miner/dev>\n",
      "12:03:56.387878 fstat(3</workspaces/hdf5-tutorial/libs/strace_miner/dev>, {st_mode=S_IFDIR|0755, st_size=4096, ...}) = 0\n",
      "12:03:56.387983 getdents64(3</workspaces/hdf5-tutorial/libs/strace_miner/dev>, 0x558500f29f60 /* 20 entries */, 32768) = 736\n",
      "12:03:56.388112 getdents64(3</workspaces/hdf5-tutorial/libs/strace_miner/dev>, 0x558500f29f60 /* 0 entries */, 32768) = 0\n",
      "12:03:56.388194 close(3</workspaces/hdf5-tutorial/libs/strace_miner/dev>) = 0\n",
      "12:03:56.388303 fstat(1</dev/pts/3>, {st_mode=S_IFCHR|0620, st_rdev=makedev(0x88, 0x3), ...}) = 0\n",
      "12:03:56.388396 write(1</dev/pts/3>, \"-e\\t\\t\\t\\t  02-test-view1.ipynb  05-\"..., 51-e\t\t\t\t  02-test-view1.ipynb  05-test-wrapper.ipynb\n",
      ") = 51\n",
      "12:03:56.388503 write(1</dev/pts/3>, \"00-prepare-eg.ipynb\\t\\t  03-dev-Vi\"..., 6300-prepare-eg.ipynb\t\t  03-dev-View2.ipynb   06-dev-view4.ipynb\n",
      ") = 63\n",
      "12:03:56.388605 write(1</dev/pts/3>, \"01A-devCore-LineReader.ipynb\\t  0\"..., 5701A-devCore-LineReader.ipynb\t  03-test-view2.ipynb  data\n",
      ") = 57\n",
      "12:03:56.388705 write(1</dev/pts/3>, \"01B-devCore-Preprocessor.ipynb\\t \"..., 5901B-devCore-Preprocessor.ipynb\t  04-dev-view3.ipynb   logs\n",
      ") = 59\n",
      "12:03:56.388808 write(1</dev/pts/3>, \"01C-devCore-StraceAnalyzer.ipynb\"..., 5901C-devCore-StraceAnalyzer.ipynb  04-test-view3.ipynb  old\n",
      ") = 59\n",
      "12:03:56.388910 write(1</dev/pts/3>, \"02-dev-View1.ipynb\\t\\t  05-sm-wrap\"..., 4702-dev-View1.ipynb\t\t  05-sm-wrapper.ipynb  src\n",
      ") = 47\n",
      "12:03:56.389016 close(1</dev/pts/3>)    = 0\n",
      "12:03:56.389107 close(2</dev/pts/3>)    = 0\n",
      "12:03:56.389213 exit_group(0)           = ?\n",
      "12:03:56.389403 +++ exited with 0 +++\n"
     ]
    }
   ],
   "source": [
    "!strace -tt -y ls"
   ]
  },
  {
   "cell_type": "code",
   "execution_count": null,
   "metadata": {},
   "outputs": [],
   "source": []
  }
 ],
 "metadata": {
  "kernelspec": {
   "display_name": "hdf5-tutorial",
   "language": "python",
   "name": "python3"
  },
  "language_info": {
   "codemirror_mode": {
    "name": "ipython",
    "version": 3
   },
   "file_extension": ".py",
   "mimetype": "text/x-python",
   "name": "python",
   "nbconvert_exporter": "python",
   "pygments_lexer": "ipython3",
   "version": "3.12.1"
  }
 },
 "nbformat": 4,
 "nbformat_minor": 2
}
