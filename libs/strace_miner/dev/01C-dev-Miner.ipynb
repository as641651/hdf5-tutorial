{
 "cells": [
  {
   "cell_type": "code",
   "execution_count": 1,
   "metadata": {},
   "outputs": [
    {
     "name": "stdout",
     "output_type": "stream",
     "text": [
      "Overwriting ../strace_miner/miner/miner.py\n"
     ]
    }
   ],
   "source": [
    "%%writefile ../strace_miner/miner/miner.py\n",
    "from abc import ABC, abstractmethod\n",
    "\n",
    "class Miner(ABC):\n",
    "    def __init__(self,st_log_paths):\n",
    "        self.st_log_paths = st_log_paths\n",
    "        self.st_logs = {}\n",
    "        self.summaries = {}\n",
    "        self.el = None\n",
    "\n",
    "\n",
    "    @abstractmethod\n",
    "    def preprocess(self,reuse=False):\n",
    "        pass\n",
    "    \n",
    "    @abstractmethod\n",
    "    def prepare_summaries_and_event_log(self):\n",
    "        pass"
   ]
  },
  {
   "cell_type": "code",
   "execution_count": null,
   "metadata": {},
   "outputs": [],
   "source": []
  }
 ],
 "metadata": {
  "kernelspec": {
   "display_name": "hdf5-tutorial",
   "language": "python",
   "name": "python3"
  },
  "language_info": {
   "codemirror_mode": {
    "name": "ipython",
    "version": 3
   },
   "file_extension": ".py",
   "mimetype": "text/x-python",
   "name": "python",
   "nbconvert_exporter": "python",
   "pygments_lexer": "ipython3",
   "version": "3.12.1"
  }
 },
 "nbformat": 4,
 "nbformat_minor": 2
}
