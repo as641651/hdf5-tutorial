{
 "cells": [
  {
   "cell_type": "code",
   "execution_count": 1,
   "metadata": {},
   "outputs": [],
   "source": [
    "import h5py\n",
    "import pandas as pd\n",
    "import numpy as np\n",
    "import pickle"
   ]
  },
  {
   "cell_type": "code",
   "execution_count": 2,
   "metadata": {},
   "outputs": [],
   "source": [
    "def create_csv_hetero():\n",
    "    data = {\n",
    "    'Name': ['Alice', 'Bob', 'Charlie', 'David'],\n",
    "    'Age': [25, 30, 22, 28],\n",
    "    'City': ['New York', 'Los Angeles', 'Chicago', 'Houston'],\n",
    "    'Income': [55000, 65000, 48000, 70000],\n",
    "    'IsStudent': [False, False, True, False]\n",
    "}\n",
    "    \n",
    "    df = pd.DataFrame(data)\n",
    "    df.to_csv('build/sample.csv', index=False)\n",
    "    \n"
   ]
  },
  {
   "cell_type": "code",
   "execution_count": 5,
   "metadata": {},
   "outputs": [],
   "source": [
    "def create_csv_hetero(num_rows,filename):\n",
    "    data = {\n",
    "    'IntegerColumn': np.random.randint(1, 1000, size=num_rows),\n",
    "    'FloatColumn': np.random.rand(num_rows),\n",
    "    'StringColumn': [''.join(np.random.choice(list('abcdefghijklmnopqrstuvwxyz'), size=10)) for _ in range(num_rows)],\n",
    "    'BooleanColumn': np.random.choice([True, False], size=num_rows)\n",
    "    }\n",
    "    df = pd.DataFrame(data)\n",
    "    df.to_csv('build/{}.csv'.format(filename), index=False)\n"
   ]
  },
  {
   "cell_type": "code",
   "execution_count": 4,
   "metadata": {},
   "outputs": [],
   "source": [
    "def create_csv_homogenous(num_rows, num_columns,filename):\n",
    "    data = np.random.rand(num_rows, num_columns)\n",
    "    column_names = [f'Column_{i+1}' for i in range(num_columns)]\n",
    "    df = pd.DataFrame(data, columns=column_names)\n",
    "    df.to_csv('build/{}.csv'.format(filename), index=False)\n"
   ]
  },
  {
   "cell_type": "code",
   "execution_count": 56,
   "metadata": {},
   "outputs": [],
   "source": [
    "num_rows = 100\n",
    "num_columns = 5\n",
    "filename = 'sample_csv{}_{}'.format(num_rows,num_columns)\n",
    "create_csv_homogenous(num_rows,num_columns,filename)"
   ]
  },
  {
   "cell_type": "code",
   "execution_count": 6,
   "metadata": {},
   "outputs": [],
   "source": [
    "#create_sample_csv1()\n",
    "num_rows = 100\n",
    "filename = 'hetero_csv{}'.format(num_rows)\n",
    "create_csv_hetero(num_rows,filename)"
   ]
  },
  {
   "cell_type": "code",
   "execution_count": 7,
   "metadata": {},
   "outputs": [],
   "source": [
    "df = pd.read_csv('build/{}.csv'.format(filename))\n",
    "#df"
   ]
  },
  {
   "cell_type": "code",
   "execution_count": 8,
   "metadata": {},
   "outputs": [],
   "source": [
    "df.to_hdf('build/{}.h5'.format(filename), key='data', mode='w',format='table')"
   ]
  },
  {
   "cell_type": "code",
   "execution_count": 60,
   "metadata": {},
   "outputs": [],
   "source": [
    "df.to_pickle('build/{}.pkl'.format(filename))"
   ]
  },
  {
   "cell_type": "code",
   "execution_count": 61,
   "metadata": {},
   "outputs": [
    {
     "name": "stdout",
     "output_type": "stream",
     "text": [
      "total 16M\n",
      "-rw-r--r-- 1 vscode vscode 2.1K Jan  3 12:16 file5.hdf5\n",
      "-rw-r--r-- 1 vscode vscode  39K Jan  3 14:13 hetero_csv1000.csv\n",
      "-rw-r--r-- 1 vscode vscode 1.1M Jan  3 14:13 hetero_csv1000.h5\n",
      "-rw-r--r-- 1 vscode vscode  31K Jan  3 14:13 hetero_csv1000.pkl\n",
      "-rw-r--r-- 1 vscode vscode 3.8M Jan  3 14:18 hetero_csv100000.csv\n",
      "-rw-r--r-- 1 vscode vscode 4.7M Jan  3 14:18 hetero_csv100000.h5\n",
      "-rw-r--r-- 1 vscode vscode 2.9M Jan  3 14:18 hetero_csv100000.pkl\n",
      "-rw-r--r-- 1 vscode vscode  151 Jan  3 12:51 sample.csv\n",
      "-rw-r--r-- 1 vscode vscode 1.1M Jan  3 12:59 sample.h5\n",
      "-rw-r--r-- 1 vscode vscode 942K Jan  3 13:37 sample_csv10000_5.csv\n",
      "-rw-r--r-- 1 vscode vscode 476K Jan  3 13:37 sample_csv10000_5.h5\n",
      "-rw-r--r-- 1 vscode vscode 392K Jan  3 13:47 sample_csv10000_5.pkl\n",
      "-rw-r--r-- 1 vscode vscode  95K Jan  3 14:18 sample_csv1000_5.csv\n",
      "-rw-r--r-- 1 vscode vscode  54K Jan  3 13:47 sample_csv1000_5.h5\n",
      "-rw-r--r-- 1 vscode vscode  40K Jan  3 13:48 sample_csv1000_5.pkl\n",
      "-rw-r--r-- 1 vscode vscode  427 Jan  3 13:16 sample_csv4_5.csv\n",
      "-rw-r--r-- 1 vscode vscode 6.9K Jan  3 13:16 sample_csv4_5.h5\n"
     ]
    }
   ],
   "source": [
    "!ls -lh build/"
   ]
  },
  {
   "cell_type": "code",
   "execution_count": 39,
   "metadata": {},
   "outputs": [
    {
     "ename": "UnicodeDecodeError",
     "evalue": "'utf-8' codec can't decode byte 0x80 in position 0: invalid start byte",
     "output_type": "error",
     "traceback": [
      "\u001b[0;31m---------------------------------------------------------------------------\u001b[0m",
      "\u001b[0;31mUnicodeDecodeError\u001b[0m                        Traceback (most recent call last)",
      "Cell \u001b[0;32mIn[39], line 2\u001b[0m\n\u001b[1;32m      1\u001b[0m \u001b[38;5;28;01mwith\u001b[39;00m \u001b[38;5;28mopen\u001b[39m(\u001b[38;5;124m'\u001b[39m\u001b[38;5;124mbuild/\u001b[39m\u001b[38;5;132;01m{}\u001b[39;00m\u001b[38;5;124m.pkl\u001b[39m\u001b[38;5;124m'\u001b[39m\u001b[38;5;241m.\u001b[39mformat(filename)) \u001b[38;5;28;01mas\u001b[39;00m f:\n\u001b[0;32m----> 2\u001b[0m     bd \u001b[38;5;241m=\u001b[39m \u001b[43mpickle\u001b[49m\u001b[38;5;241;43m.\u001b[39;49m\u001b[43mload\u001b[49m\u001b[43m(\u001b[49m\u001b[43mf\u001b[49m\u001b[43m)\u001b[49m\n",
      "File \u001b[0;32m<frozen codecs>:322\u001b[0m, in \u001b[0;36mdecode\u001b[0;34m(self, input, final)\u001b[0m\n",
      "\u001b[0;31mUnicodeDecodeError\u001b[0m: 'utf-8' codec can't decode byte 0x80 in position 0: invalid start byte"
     ]
    }
   ],
   "source": [
    "with open('build/{}.pkl'.format(filename)) as f:\n",
    "    bd = pickle.load(f)"
   ]
  },
  {
   "cell_type": "code",
   "execution_count": 40,
   "metadata": {},
   "outputs": [
    {
     "data": {
      "text/html": [
       "<div>\n",
       "<style scoped>\n",
       "    .dataframe tbody tr th:only-of-type {\n",
       "        vertical-align: middle;\n",
       "    }\n",
       "\n",
       "    .dataframe tbody tr th {\n",
       "        vertical-align: top;\n",
       "    }\n",
       "\n",
       "    .dataframe thead th {\n",
       "        text-align: right;\n",
       "    }\n",
       "</style>\n",
       "<table border=\"1\" class=\"dataframe\">\n",
       "  <thead>\n",
       "    <tr style=\"text-align: right;\">\n",
       "      <th></th>\n",
       "      <th>Column_1</th>\n",
       "      <th>Column_2</th>\n",
       "      <th>Column_3</th>\n",
       "      <th>Column_4</th>\n",
       "      <th>Column_5</th>\n",
       "    </tr>\n",
       "  </thead>\n",
       "  <tbody>\n",
       "    <tr>\n",
       "      <th>0</th>\n",
       "      <td>0.900333</td>\n",
       "      <td>0.150942</td>\n",
       "      <td>0.407577</td>\n",
       "      <td>0.211893</td>\n",
       "      <td>0.368580</td>\n",
       "    </tr>\n",
       "    <tr>\n",
       "      <th>1</th>\n",
       "      <td>0.054581</td>\n",
       "      <td>0.666134</td>\n",
       "      <td>0.962131</td>\n",
       "      <td>0.102901</td>\n",
       "      <td>0.996091</td>\n",
       "    </tr>\n",
       "    <tr>\n",
       "      <th>2</th>\n",
       "      <td>0.908334</td>\n",
       "      <td>0.355111</td>\n",
       "      <td>0.388780</td>\n",
       "      <td>0.440374</td>\n",
       "      <td>0.116547</td>\n",
       "    </tr>\n",
       "    <tr>\n",
       "      <th>3</th>\n",
       "      <td>0.350226</td>\n",
       "      <td>0.832670</td>\n",
       "      <td>0.695557</td>\n",
       "      <td>0.228970</td>\n",
       "      <td>0.350325</td>\n",
       "    </tr>\n",
       "    <tr>\n",
       "      <th>4</th>\n",
       "      <td>0.589626</td>\n",
       "      <td>0.785175</td>\n",
       "      <td>0.205125</td>\n",
       "      <td>0.930532</td>\n",
       "      <td>0.941881</td>\n",
       "    </tr>\n",
       "    <tr>\n",
       "      <th>...</th>\n",
       "      <td>...</td>\n",
       "      <td>...</td>\n",
       "      <td>...</td>\n",
       "      <td>...</td>\n",
       "      <td>...</td>\n",
       "    </tr>\n",
       "    <tr>\n",
       "      <th>995</th>\n",
       "      <td>0.749964</td>\n",
       "      <td>0.606144</td>\n",
       "      <td>0.237585</td>\n",
       "      <td>0.890973</td>\n",
       "      <td>0.289110</td>\n",
       "    </tr>\n",
       "    <tr>\n",
       "      <th>996</th>\n",
       "      <td>0.763569</td>\n",
       "      <td>0.819841</td>\n",
       "      <td>0.163382</td>\n",
       "      <td>0.369245</td>\n",
       "      <td>0.494385</td>\n",
       "    </tr>\n",
       "    <tr>\n",
       "      <th>997</th>\n",
       "      <td>0.190616</td>\n",
       "      <td>0.765322</td>\n",
       "      <td>0.240649</td>\n",
       "      <td>0.779353</td>\n",
       "      <td>0.300835</td>\n",
       "    </tr>\n",
       "    <tr>\n",
       "      <th>998</th>\n",
       "      <td>0.234305</td>\n",
       "      <td>0.844017</td>\n",
       "      <td>0.340665</td>\n",
       "      <td>0.032142</td>\n",
       "      <td>0.969102</td>\n",
       "    </tr>\n",
       "    <tr>\n",
       "      <th>999</th>\n",
       "      <td>0.169051</td>\n",
       "      <td>0.808021</td>\n",
       "      <td>0.842930</td>\n",
       "      <td>0.800420</td>\n",
       "      <td>0.206306</td>\n",
       "    </tr>\n",
       "  </tbody>\n",
       "</table>\n",
       "<p>1000 rows × 5 columns</p>\n",
       "</div>"
      ],
      "text/plain": [
       "     Column_1  Column_2  Column_3  Column_4  Column_5\n",
       "0    0.900333  0.150942  0.407577  0.211893  0.368580\n",
       "1    0.054581  0.666134  0.962131  0.102901  0.996091\n",
       "2    0.908334  0.355111  0.388780  0.440374  0.116547\n",
       "3    0.350226  0.832670  0.695557  0.228970  0.350325\n",
       "4    0.589626  0.785175  0.205125  0.930532  0.941881\n",
       "..        ...       ...       ...       ...       ...\n",
       "995  0.749964  0.606144  0.237585  0.890973  0.289110\n",
       "996  0.763569  0.819841  0.163382  0.369245  0.494385\n",
       "997  0.190616  0.765322  0.240649  0.779353  0.300835\n",
       "998  0.234305  0.844017  0.340665  0.032142  0.969102\n",
       "999  0.169051  0.808021  0.842930  0.800420  0.206306\n",
       "\n",
       "[1000 rows x 5 columns]"
      ]
     },
     "execution_count": 40,
     "metadata": {},
     "output_type": "execute_result"
    }
   ],
   "source": [
    "pd.read_pickle('build/{}.pkl'.format(filename))"
   ]
  },
  {
   "cell_type": "code",
   "execution_count": null,
   "metadata": {},
   "outputs": [],
   "source": []
  }
 ],
 "metadata": {
  "kernelspec": {
   "display_name": "hdf5-tutorial",
   "language": "python",
   "name": "python3"
  },
  "language_info": {
   "codemirror_mode": {
    "name": "ipython",
    "version": 3
   },
   "file_extension": ".py",
   "mimetype": "text/x-python",
   "name": "python",
   "nbconvert_exporter": "python",
   "pygments_lexer": "ipython3",
   "version": "3.12.1"
  }
 },
 "nbformat": 4,
 "nbformat_minor": 2
}
