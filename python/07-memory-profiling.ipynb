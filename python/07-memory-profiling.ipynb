{
 "cells": [
  {
   "cell_type": "markdown",
   "metadata": {},
   "source": [
    "### Task 0: Find the disk sizes of the csv and the hdf5 files"
   ]
  },
  {
   "cell_type": "code",
   "execution_count": 7,
   "metadata": {},
   "outputs": [
    {
     "name": "stdout",
     "output_type": "stream",
     "text": [
      "-rw-r--r-- 1 vscode vscode 8.4M Jan  4 09:53 build/hetero1.csv\n",
      "-rw-r--r-- 1 vscode vscode 6.2M Jan  4 10:05 build/hetero1.h5\n"
     ]
    }
   ],
   "source": [
    "!ls -lh build/hetero1*"
   ]
  },
  {
   "cell_type": "markdown",
   "metadata": {},
   "source": [
    "### Task 1: Profile the memory consumption of loading a slice of data from the CSV file into a numpy array"
   ]
  },
  {
   "cell_type": "code",
   "execution_count": 1,
   "metadata": {},
   "outputs": [
    {
     "name": "stdout",
     "output_type": "stream",
     "text": [
      "Overwriting src/01A_slice_from_csv.py\n"
     ]
    }
   ],
   "source": [
    "%%writefile src/01A_slice_from_csv.py\n",
    "\n",
    "from memory_profiler import profile\n",
    "import numpy as np\n",
    "import h5py\n",
    "import sys\n",
    "\n",
    "@profile\n",
    "def slice_from_csv(csv_filename):\n",
    "    \n",
    "    dt = np.dtype([('name','S20'),\n",
    "                   ('city','S20'),\n",
    "                   ('x','f8'),\n",
    "                   ('y','f8'),\n",
    "                   ('z','f8')])\n",
    "\n",
    "    np_data = np.genfromtxt(csv_filename,delimiter=',',dtype=dt,names=True)\n",
    "    x = np_data[1000:int(sys.argv[1])]\n",
    "    return x\n",
    "   \n",
    "\n",
    "if __name__ == \"__main__\":\n",
    "\n",
    "    csv_filename = 'build/hetero1.csv'\n",
    "    x_csv = slice_from_csv(csv_filename)"
   ]
  },
  {
   "cell_type": "markdown",
   "metadata": {},
   "source": [
    "**TODO: Find out why there is a significant difference in execution time (~30s) with and without memory profiling for the csv task**"
   ]
  },
  {
   "cell_type": "code",
   "execution_count": 4,
   "metadata": {},
   "outputs": [
    {
     "name": "stdout",
     "output_type": "stream",
     "text": [
      "Filename: /workspaces/hdf5-tutorial/python/src/01A_slice_from_csv.py\n",
      "\n",
      "Line #    Mem usage    Increment  Occurrences   Line Contents\n",
      "=============================================================\n",
      "     7     85.3 MiB     85.3 MiB           1   @profile\n",
      "     8                                         def slice_from_csv(csv_filename):\n",
      "     9                                             \n",
      "    10     85.3 MiB      0.0 MiB           1       dt = np.dtype([('name','S20'),\n",
      "    11                                                            ('city','S20'),\n",
      "    12                                                            ('x','f8'),\n",
      "    13                                                            ('y','f8'),\n",
      "    14                                                            ('z','f8')])\n",
      "    15                                         \n",
      "    16    101.5 MiB     16.2 MiB           1       np_data = np.genfromtxt(csv_filename,delimiter=',',dtype=dt,names=True)\n",
      "    17    101.5 MiB      0.0 MiB           1       x = np_data[1000:int(sys.argv[1])]\n",
      "    18    101.5 MiB      0.0 MiB           1       return x\n",
      "\n",
      "\n"
     ]
    }
   ],
   "source": [
    "%%bash\n",
    "python src/01A_slice_from_csv.py 5000"
   ]
  },
  {
   "cell_type": "markdown",
   "metadata": {},
   "source": [
    "### Task 2: Profile the memory consumption of loading a slice of data from the HDF5 file into a numpy array"
   ]
  },
  {
   "cell_type": "code",
   "execution_count": 5,
   "metadata": {},
   "outputs": [
    {
     "name": "stdout",
     "output_type": "stream",
     "text": [
      "Overwriting src/01B_slice_from_h5.py\n"
     ]
    }
   ],
   "source": [
    "%%writefile src/01B_slice_from_h5.py\n",
    "\n",
    "from memory_profiler import profile\n",
    "import h5py\n",
    "import numpy as np\n",
    "import sys\n",
    "\n",
    "\n",
    "@profile\n",
    "def slice_from_h5(h5_filename):\n",
    "    f = h5py.File(h5_filename)\n",
    "    x = f['table'][1000:int(sys.argv[1])]\n",
    "    f.close()\n",
    "    return x\n",
    "   \n",
    "\n",
    "if __name__ == \"__main__\":\n",
    "\n",
    "    h5_filename = 'build/hetero1.h5'\n",
    "    x_h5 = slice_from_h5(h5_filename)"
   ]
  },
  {
   "cell_type": "code",
   "execution_count": 6,
   "metadata": {},
   "outputs": [
    {
     "name": "stdout",
     "output_type": "stream",
     "text": [
      "Filename: /workspaces/hdf5-tutorial/python/src/01B_slice_from_h5.py\n",
      "\n",
      "Line #    Mem usage    Increment  Occurrences   Line Contents\n",
      "=============================================================\n",
      "     8     83.1 MiB     83.1 MiB           1   @profile\n",
      "     9                                         def slice_from_h5(h5_filename):\n",
      "    10     83.7 MiB      0.6 MiB           1       f = h5py.File(h5_filename)\n",
      "    11     84.5 MiB      0.8 MiB           1       x = f['table'][1000:int(sys.argv[1])]\n",
      "    12     84.3 MiB     -0.2 MiB           1       f.close()\n",
      "    13     84.3 MiB      0.0 MiB           1       return x\n",
      "\n",
      "\n"
     ]
    },
    {
     "name": "stderr",
     "output_type": "stream",
     "text": [
      "\n",
      "real\t0m0.477s\n",
      "user\t0m0.676s\n",
      "sys\t0m1.409s\n"
     ]
    }
   ],
   "source": [
    "%%bash\n",
    "time python src/01B_slice_from_h5.py 5000"
   ]
  },
  {
   "cell_type": "markdown",
   "metadata": {},
   "source": [
    "### Task 3: Repeat Task 2 by changing the size of the slices and notice the increment in loading the data\n",
    "\n",
    "Ans: Blocked memory accesses"
   ]
  },
  {
   "cell_type": "code",
   "execution_count": 42,
   "metadata": {},
   "outputs": [
    {
     "name": "stdout",
     "output_type": "stream",
     "text": [
      "2000 0.7MiB\n",
      "3000 0.7MiB\n",
      "4000 0.7MiB\n",
      "5000 0.7MiB\n",
      "6000 1.0MiB\n",
      "7000 1.0MiB\n",
      "8000 1.0MiB\n",
      "9000 0.9MiB\n",
      "10000 1.2MiB\n",
      "11000 1.2MiB\n",
      "12000 1.2MiB\n",
      "13000 1.3MiB\n",
      "14000 1.3MiB\n",
      "15000 1.6MiB\n"
     ]
    }
   ],
   "source": [
    "%%bash\n",
    "start_value=2000\n",
    "end_value=15000\n",
    "step=1000\n",
    "\n",
    "# Loop through the values and execute the Python command\n",
    "for ((arg=$start_value; arg<=$end_value; arg+=step)); do\n",
    "    output=$(python -m memory_profiler src/01B_slice_from_h5.py $arg | grep 11 | awk '{print $4 $5}')\n",
    "    echo $arg $output\n",
    "done"
   ]
  },
  {
   "cell_type": "code",
   "execution_count": null,
   "metadata": {},
   "outputs": [],
   "source": []
  }
 ],
 "metadata": {
  "kernelspec": {
   "display_name": "hdf5-tutorial",
   "language": "python",
   "name": "python3"
  },
  "language_info": {
   "codemirror_mode": {
    "name": "ipython",
    "version": 3
   },
   "file_extension": ".py",
   "mimetype": "text/x-python",
   "name": "python",
   "nbconvert_exporter": "python",
   "pygments_lexer": "ipython3",
   "version": "3.12.1"
  }
 },
 "nbformat": 4,
 "nbformat_minor": 2
}
