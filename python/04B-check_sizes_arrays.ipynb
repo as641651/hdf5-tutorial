{
 "cells": [
  {
   "cell_type": "code",
   "execution_count": 6,
   "metadata": {},
   "outputs": [
    {
     "name": "stdout",
     "output_type": "stream",
     "text": [
      "Writing src/check_size_np_structured.py\n"
     ]
    }
   ],
   "source": [
    "%%writefile src/check_size_np_structured.py\n",
    "\n",
    "import numpy as np\n",
    "from faker import Faker\n",
    "import random\n",
    "import sys\n",
    "from memory_profiler import profile\n",
    "\n",
    "#@profile\n",
    "def generate_fake_data(num_records):\n",
    "\n",
    "    dt = np.dtype([('name','S20'),\n",
    "                   ('city','S20'),\n",
    "                   ('x','f8'),\n",
    "                   ('y','f8'),\n",
    "                   ('z','f8')])\n",
    "    \n",
    "    fake = Faker()\n",
    "    record_size = 20+20+8+8+8\n",
    "\n",
    "    data = np.zeros((num_records,), dtype=dt)\n",
    "    for i in range(num_records):\n",
    "        name = fake.name()\n",
    "        city = fake.city()\n",
    "        #date_time = fake.date_time_between(start_date=\"-30d\", end_date=\"now\", tzinfo=None)\n",
    "        x = random.uniform(0.0, 100.0)\n",
    "        y = random.uniform(0.0, 100.0)\n",
    "        z = random.uniform(0.0, 100.0)\n",
    "        data[i] = (name, city, x, y, z)\n",
    "\n",
    "    return data,record_size\n",
    "\n",
    "#@profile\n",
    "def main():\n",
    "    n = int(sys.argv[1])\n",
    "    data, rec_size = generate_fake_data(n)\n",
    "    print(\"Record size: {} Bytes\".format(rec_size))\n",
    "    print(\"Data size: {:.3f} MB\".format(data.nbytes*1e-6))\n",
    "    data = None\n",
    "\n",
    "if __name__ == \"__main__\":\n",
    "    main()"
   ]
  },
  {
   "cell_type": "code",
   "execution_count": 7,
   "metadata": {},
   "outputs": [
    {
     "name": "stdout",
     "output_type": "stream",
     "text": [
      "Record size: 64 Bytes\n",
      "Data size: 0.064 MB\n"
     ]
    }
   ],
   "source": [
    "%%bash\n",
    "python src/check_size_np_structured.py 1000"
   ]
  },
  {
   "cell_type": "code",
   "execution_count": 8,
   "metadata": {},
   "outputs": [
    {
     "name": "stdout",
     "output_type": "stream",
     "text": [
      "Writing src/check_size_np_array.py\n"
     ]
    }
   ],
   "source": [
    "%%writefile src/check_size_np_array.py\n",
    "\n",
    "import numpy as np\n",
    "from faker import Faker\n",
    "import random\n",
    "import sys\n",
    "#from memory_profiler import profile\n",
    "import psutil\n",
    "\n",
    "\n",
    "@profile\n",
    "def main():\n",
    "    n = int(sys.argv[1])\n",
    "    shape = (n,256,256,3)\n",
    "\n",
    "    print(\"free Memory: {:.3f} MB\".format(psutil.virtual_memory().available*1e-6))\n",
    "    print(\"Required memory: {:.3f} MB\".format(n*256*256*3*8*1e-6))\n",
    "    data = np.random.random(size=shape).astype(np.float64)\n",
    "    print(\"Data size: {:.3f} MB\".format(data.nbytes*1e-6))\n",
    "    #print(n*10*8*1e-6)\n",
    "    data = None\n",
    "\n",
    "if __name__ == \"__main__\":\n",
    "    main()"
   ]
  },
  {
   "cell_type": "code",
   "execution_count": 9,
   "metadata": {},
   "outputs": [
    {
     "name": "stdout",
     "output_type": "stream",
     "text": [
      "free Memory: 12726.280 MB\n",
      "Required memory: 4718.592 MB\n",
      "Data size: 4718.592 MB\n"
     ]
    }
   ],
   "source": [
    "%%bash\n",
    "python src/check_size_np_array.py 3000"
   ]
  },
  {
   "cell_type": "code",
   "execution_count": 102,
   "metadata": {},
   "outputs": [
    {
     "name": "stdout",
     "output_type": "stream",
     "text": [
      "free Memory: 14180.233 MB\n",
      "Required memory: 4718.592 MB\n",
      "Data size: 4718.592 MB\n"
     ]
    },
    {
     "name": "stderr",
     "output_type": "stream",
     "text": [
      "Memory used 9274164 Kb\n"
     ]
    }
   ],
   "source": [
    "%%bash\n",
    "# do not use the bash built in time. do apt-install time\n",
    "/usr/bin/time --format=\"Memory used %M Kb\" python src/large_np_array.py 3000"
   ]
  },
  {
   "cell_type": "code",
   "execution_count": 59,
   "metadata": {},
   "outputs": [
    {
     "name": "stdout",
     "output_type": "stream",
     "text": [
      "               total        used        free      shared  buff/cache   available\n",
      "Mem:            15Gi       1.9Gi        13Gi       3.0Mi       389Mi        13Gi\n",
      "Swap:          4.0Gi       1.4Gi       2.6Gi\n"
     ]
    }
   ],
   "source": [
    "!free -h"
   ]
  },
  {
   "cell_type": "code",
   "execution_count": null,
   "metadata": {},
   "outputs": [],
   "source": []
  },
  {
   "cell_type": "code",
   "execution_count": null,
   "metadata": {},
   "outputs": [],
   "source": []
  }
 ],
 "metadata": {
  "kernelspec": {
   "display_name": "hdf5-tutorial",
   "language": "python",
   "name": "python3"
  },
  "language_info": {
   "codemirror_mode": {
    "name": "ipython",
    "version": 3
   },
   "file_extension": ".py",
   "mimetype": "text/x-python",
   "name": "python",
   "nbconvert_exporter": "python",
   "pygments_lexer": "ipython3",
   "version": "3.12.1"
  }
 },
 "nbformat": 4,
 "nbformat_minor": 2
}
