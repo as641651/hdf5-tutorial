{
 "cells": [
  {
   "cell_type": "code",
   "execution_count": 1,
   "metadata": {},
   "outputs": [],
   "source": [
    "import h5py\n",
    "from faker import Faker\n",
    "import random\n",
    "import numpy as np\n",
    "import pandas as pd\n",
    "import sys"
   ]
  },
  {
   "cell_type": "markdown",
   "metadata": {},
   "source": [
    "#### Inputs\n",
    "\n",
    "CSV and H5 file names"
   ]
  },
  {
   "cell_type": "code",
   "execution_count": 2,
   "metadata": {},
   "outputs": [],
   "source": [
    "csv_filename = 'build/hetero1.csv'\n",
    "h5_filename = 'build/hetero1.h5'"
   ]
  },
  {
   "cell_type": "markdown",
   "metadata": {},
   "source": [
    "Definition of the compound datatype"
   ]
  },
  {
   "cell_type": "code",
   "execution_count": 4,
   "metadata": {},
   "outputs": [],
   "source": [
    "dt = np.dtype([('name','S20'),\n",
    "                   ('city','S20'),\n",
    "                   ('x','f8'),\n",
    "                   ('y','f8'),\n",
    "                   ('z','f8')])"
   ]
  },
  {
   "cell_type": "markdown",
   "metadata": {},
   "source": [
    "### Task 0: Create a random CSV file\n",
    "\n",
    "Fake data generator"
   ]
  },
  {
   "cell_type": "code",
   "execution_count": 4,
   "metadata": {},
   "outputs": [],
   "source": [
    "def generate_fake_data(num_records):\n",
    "\n",
    "    \n",
    "    fake = Faker()\n",
    "\n",
    "    data = np.zeros((num_records,), dtype=dt)\n",
    "    for i in range(num_records):\n",
    "        name = fake.name()\n",
    "        city = fake.city()\n",
    "        #date_time = fake.date_time_between(start_date=\"-30d\", end_date=\"now\", tzinfo=None)\n",
    "        x = random.uniform(0.0, 100.0)\n",
    "        y = random.uniform(0.0, 100.0)\n",
    "        z = random.uniform(0.0, 100.0)\n",
    "        data[i] = (name, city, x, y, z)\n",
    "\n",
    "    df = pd.DataFrame(data, columns=['name', 'city', 'x', 'y', 'z'])\n",
    "    return df"
   ]
  },
  {
   "cell_type": "code",
   "execution_count": 16,
   "metadata": {},
   "outputs": [],
   "source": [
    "df_ = generate_fake_data(100000)"
   ]
  },
  {
   "cell_type": "markdown",
   "metadata": {},
   "source": [
    "Save to CSV"
   ]
  },
  {
   "cell_type": "code",
   "execution_count": 17,
   "metadata": {},
   "outputs": [],
   "source": [
    "\n",
    "df_.to_csv(csv_filename, index=False)"
   ]
  },
  {
   "cell_type": "markdown",
   "metadata": {},
   "source": [
    "### Task 1:  Convert CSV to HDF5 using NumPy Structured Array"
   ]
  },
  {
   "cell_type": "markdown",
   "metadata": {},
   "source": [
    "1. Read the CSV file and store the contents into a numpy structured array"
   ]
  },
  {
   "cell_type": "code",
   "execution_count": 4,
   "metadata": {},
   "outputs": [],
   "source": [
    "np_data = np.genfromtxt(csv_filename,delimiter=',',dtype=dt,names=True)"
   ]
  },
  {
   "cell_type": "markdown",
   "metadata": {},
   "source": [
    "2) Open a new h5 file"
   ]
  },
  {
   "cell_type": "code",
   "execution_count": 5,
   "metadata": {},
   "outputs": [],
   "source": [
    "h5f = h5py.File(h5_filename,'w')"
   ]
  },
  {
   "cell_type": "markdown",
   "metadata": {},
   "source": [
    "3) Create a dataset"
   ]
  },
  {
   "cell_type": "code",
   "execution_count": 6,
   "metadata": {},
   "outputs": [],
   "source": [
    "shape = np_data.shape\n",
    "dset = h5f.create_dataset('table',shape,dtype=dt)"
   ]
  },
  {
   "cell_type": "markdown",
   "metadata": {},
   "source": [
    "3) Store the numpy data into the dataset and close the h5 file"
   ]
  },
  {
   "cell_type": "code",
   "execution_count": 7,
   "metadata": {},
   "outputs": [],
   "source": [
    "dset[:] = np_data\n"
   ]
  },
  {
   "cell_type": "code",
   "execution_count": 8,
   "metadata": {},
   "outputs": [],
   "source": [
    "h5f.close()"
   ]
  },
  {
   "cell_type": "markdown",
   "metadata": {},
   "source": [
    "4. Compare the sizes of the csv and h5 file"
   ]
  },
  {
   "cell_type": "code",
   "execution_count": 9,
   "metadata": {},
   "outputs": [
    {
     "name": "stdout",
     "output_type": "stream",
     "text": [
      "-rw-r--r-- 1 vscode vscode 8.4M Jan  4 09:53 build/hetero1.csv\n",
      "-rw-r--r-- 1 vscode vscode 6.2M Jan  4 10:05 build/hetero1.h5\n"
     ]
    }
   ],
   "source": [
    "!ls -lh build/hetero1*"
   ]
  },
  {
   "cell_type": "markdown",
   "metadata": {},
   "source": [
    "### Task 2: Retrieve and explore the contents of the HDF5 file"
   ]
  },
  {
   "cell_type": "markdown",
   "metadata": {},
   "source": [
    "1. Open the H5 file"
   ]
  },
  {
   "cell_type": "code",
   "execution_count": 13,
   "metadata": {},
   "outputs": [],
   "source": [
    "f = h5py.File(h5_filename)"
   ]
  },
  {
   "cell_type": "markdown",
   "metadata": {},
   "source": [
    "2. Explore the top level items in the H5 file"
   ]
  },
  {
   "cell_type": "code",
   "execution_count": 10,
   "metadata": {},
   "outputs": [
    {
     "data": {
      "text/plain": [
       "[('table', <HDF5 dataset \"table\": shape (100000,), type \"|V64\">)]"
      ]
     },
     "execution_count": 10,
     "metadata": {},
     "output_type": "execute_result"
    }
   ],
   "source": [
    "list(f.items())"
   ]
  },
  {
   "cell_type": "markdown",
   "metadata": {},
   "source": [
    "3. Verity the data type of the table dataset"
   ]
  },
  {
   "cell_type": "code",
   "execution_count": 11,
   "metadata": {},
   "outputs": [
    {
     "data": {
      "text/plain": [
       "dtype([('name', 'S20'), ('city', 'S20'), ('x', '<f8'), ('y', '<f8'), ('z', '<f8')])"
      ]
     },
     "execution_count": 11,
     "metadata": {},
     "output_type": "execute_result"
    }
   ],
   "source": [
    "f['table'].dtype"
   ]
  },
  {
   "cell_type": "markdown",
   "metadata": {},
   "source": [
    "4. Retrieve the contents of the table dataset as a numpy array"
   ]
  },
  {
   "cell_type": "code",
   "execution_count": 12,
   "metadata": {},
   "outputs": [
    {
     "data": {
      "text/plain": [
       "array([(b\"b'Joseph Potts'\", b\"b'North Jasonborough\", 56.23321216, 39.60155857, 36.03870382),\n",
       "       (b\"b'Cassandra Jones'\", b\"b'Kingborough'\", 89.79316277, 61.99607167, 46.27598127),\n",
       "       (b\"b'Debra Ellis'\", b\"b'New Kathrynborough\", 26.24299829, 88.76285726, 75.47795578),\n",
       "       ...,\n",
       "       (b\"b'Robert Simmons'\", b\"b'North Chelsey'\", 20.93658339, 99.45892975, 98.33742394),\n",
       "       (b\"b'Sarah Daniel'\", b\"b'Staceyburgh'\", 10.49540788,  2.69513113, 75.92907275),\n",
       "       (b\"b'Jessica Gonzalez'\", b\"b'Franklintown'\", 93.01591599, 68.14022661, 82.09163187)],\n",
       "      dtype=[('name', 'S20'), ('city', 'S20'), ('x', '<f8'), ('y', '<f8'), ('z', '<f8')])"
      ]
     },
     "execution_count": 12,
     "metadata": {},
     "output_type": "execute_result"
    }
   ],
   "source": [
    "f['table'][:]"
   ]
  },
  {
   "cell_type": "code",
   "execution_count": 18,
   "metadata": {},
   "outputs": [],
   "source": [
    "f.close()"
   ]
  },
  {
   "cell_type": "markdown",
   "metadata": {},
   "source": [
    "### Task 3: Time CSV and HDF5 data retrieval"
   ]
  },
  {
   "cell_type": "markdown",
   "metadata": {},
   "source": [
    "**CSV**\n",
    "\n",
    "Time to read CSV and load the data into a numpy array"
   ]
  },
  {
   "cell_type": "code",
   "execution_count": 29,
   "metadata": {},
   "outputs": [
    {
     "name": "stdout",
     "output_type": "stream",
     "text": [
      "CPU times: user 268 ms, sys: 60.9 ms, total: 329 ms\n",
      "Wall time: 325 ms\n"
     ]
    }
   ],
   "source": [
    "time np_data = np.genfromtxt(csv_filename,delimiter=',',dtype=dt,names=True)\n"
   ]
  },
  {
   "cell_type": "markdown",
   "metadata": {},
   "source": [
    "Time to access the slice"
   ]
  },
  {
   "cell_type": "code",
   "execution_count": 30,
   "metadata": {},
   "outputs": [
    {
     "name": "stdout",
     "output_type": "stream",
     "text": [
      "CPU times: user 108 µs, sys: 83 µs, total: 191 µs\n",
      "Wall time: 195 µs\n"
     ]
    }
   ],
   "source": [
    "time x = np_data[1000:5000]\n"
   ]
  },
  {
   "cell_type": "markdown",
   "metadata": {},
   "source": [
    "Memory consumption: Size of the numpy array in memory"
   ]
  },
  {
   "cell_type": "code",
   "execution_count": 36,
   "metadata": {},
   "outputs": [
    {
     "name": "stdout",
     "output_type": "stream",
     "text": [
      "size of numpy array (np_array): 6400000 Bytes\n"
     ]
    }
   ],
   "source": [
    "print(\"size of numpy array (np_array): {} Bytes\".format(np_data.nbytes))\n",
    "#print(\"System size of numpy array (np_array): {} Bytes\".format(sys.getsizeof(np_data)))\n",
    "#print(\"size of sub array (x): {} Bytes\".format(x.nbytes))\n",
    "#print(\"System size of sub array (x): {} Bytes\".format(sys.getsizeof(x)))"
   ]
  },
  {
   "cell_type": "markdown",
   "metadata": {},
   "source": [
    "**HDf5**\n",
    "\n",
    "Time to open the h5 file"
   ]
  },
  {
   "cell_type": "code",
   "execution_count": 37,
   "metadata": {},
   "outputs": [
    {
     "name": "stdout",
     "output_type": "stream",
     "text": [
      "CPU times: user 233 µs, sys: 171 µs, total: 404 µs\n",
      "Wall time: 404 µs\n"
     ]
    }
   ],
   "source": [
    "time f = h5py.File(h5_filename)"
   ]
  },
  {
   "cell_type": "markdown",
   "metadata": {},
   "source": [
    "Time to access the slice"
   ]
  },
  {
   "cell_type": "code",
   "execution_count": 38,
   "metadata": {},
   "outputs": [
    {
     "name": "stdout",
     "output_type": "stream",
     "text": [
      "CPU times: user 1.69 ms, sys: 1.24 ms, total: 2.93 ms\n",
      "Wall time: 2.63 ms\n"
     ]
    }
   ],
   "source": [
    "time x1 = f['table'][1000:5000]"
   ]
  },
  {
   "cell_type": "markdown",
   "metadata": {},
   "source": [
    "Memory consumption: Size of the numpy array in memory"
   ]
  },
  {
   "cell_type": "code",
   "execution_count": 41,
   "metadata": {},
   "outputs": [
    {
     "name": "stdout",
     "output_type": "stream",
     "text": [
      "size of sub array (x): 256000 Bytes\n"
     ]
    }
   ],
   "source": [
    "print(\"size of sub array (x): {} Bytes\".format(x1.nbytes))\n",
    "#print(\"System size of sub array (x): {} Bytes\".format(sys.getsizeof(x1)))"
   ]
  },
  {
   "cell_type": "code",
   "execution_count": 40,
   "metadata": {},
   "outputs": [],
   "source": [
    "f.close()"
   ]
  },
  {
   "cell_type": "code",
   "execution_count": null,
   "metadata": {},
   "outputs": [],
   "source": []
  },
  {
   "cell_type": "code",
   "execution_count": null,
   "metadata": {},
   "outputs": [],
   "source": []
  }
 ],
 "metadata": {
  "kernelspec": {
   "display_name": "hdf5-tutorial",
   "language": "python",
   "name": "python3"
  },
  "language_info": {
   "codemirror_mode": {
    "name": "ipython",
    "version": 3
   },
   "file_extension": ".py",
   "mimetype": "text/x-python",
   "name": "python",
   "nbconvert_exporter": "python",
   "pygments_lexer": "ipython3",
   "version": "3.12.1"
  }
 },
 "nbformat": 4,
 "nbformat_minor": 2
}
