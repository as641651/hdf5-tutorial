{
 "cells": [
  {
   "cell_type": "code",
   "execution_count": 1,
   "metadata": {},
   "outputs": [],
   "source": [
    "from mpi4py import MPI"
   ]
  },
  {
   "cell_type": "markdown",
   "metadata": {},
   "source": [
    "### MPI4Py"
   ]
  },
  {
   "cell_type": "code",
   "execution_count": 2,
   "metadata": {},
   "outputs": [
    {
     "name": "stdout",
     "output_type": "stream",
     "text": [
      "Writing src/simple_mpi.py\n"
     ]
    }
   ],
   "source": [
    "%%writefile src/simple_mpi.py\n",
    "\n",
    "from mpi4py import MPI\n",
    "\n",
    "# Initialize MPI\n",
    "comm = MPI.COMM_WORLD\n",
    "rank = comm.Get_rank()\n",
    "size = comm.Get_size()\n",
    "\n",
    "# Print \"Hello\" from all processors\n",
    "print(f\"Hello from process {rank} out of {size}\")\n",
    "\n",
    "# Finalize MPI\n",
    "MPI.Finalize()"
   ]
  },
  {
   "cell_type": "markdown",
   "metadata": {},
   "source": [
    "MPI execute command (run in commandline)"
   ]
  },
  {
   "cell_type": "code",
   "execution_count": null,
   "metadata": {},
   "outputs": [],
   "source": [
    "!mpiexec -n 4 python src/simple_mpi.py"
   ]
  },
  {
   "cell_type": "markdown",
   "metadata": {},
   "source": [
    "### Strace wrapper"
   ]
  },
  {
   "cell_type": "code",
   "execution_count": 56,
   "metadata": {},
   "outputs": [
    {
     "name": "stdout",
     "output_type": "stream",
     "text": [
      "Writing src/sm.sh\n"
     ]
    }
   ],
   "source": [
    "%%writefile src/sm.sh\n",
    "\n",
    "#!/bin/bash\n",
    "LOG_FILE=\"logs/strace_$$\"\n",
    "strace -f -tt -T -r -y -o \"$LOG_FILE\" \"$@\""
   ]
  },
  {
   "cell_type": "markdown",
   "metadata": {},
   "source": [
    "Non mpi example"
   ]
  },
  {
   "cell_type": "code",
   "execution_count": 64,
   "metadata": {},
   "outputs": [
    {
     "name": "stdout",
     "output_type": "stream",
     "text": [
      "01-create_dataset.ipynb\t\t   08-strace-profiling.ipynb\n",
      "02-retrieve_dataset.ipynb\t   09-simple-mpi.ipynb\n",
      "03-set_attributes.ipynb\t\t   a.out\n",
      "04-create_csv_h5_pickle.ipynb\t   build\n",
      "04B-check_sizes_arrays.ipynb\t   logs\n",
      "04C-mmarrays.ipynb\t\t   massif.out.73983\n",
      "05-discovering_file_structs.ipynb  src\n",
      "06-hetero-csv-compund.ipynb\t   tmp.txt\n",
      "07-memory-profiling.ipynb\n"
     ]
    }
   ],
   "source": [
    "!bash src/sm.sh ls"
   ]
  },
  {
   "cell_type": "markdown",
   "metadata": {},
   "source": [
    "MPI example (should be run on command line)"
   ]
  },
  {
   "cell_type": "code",
   "execution_count": 54,
   "metadata": {},
   "outputs": [],
   "source": [
    "!mpiexec -n 4 bash src/sm.sh python src/simple_mpi.py "
   ]
  },
  {
   "cell_type": "markdown",
   "metadata": {},
   "source": [
    "Redundant wrapper"
   ]
  },
  {
   "cell_type": "code",
   "execution_count": 57,
   "metadata": {},
   "outputs": [
    {
     "name": "stdout",
     "output_type": "stream",
     "text": [
      "Overwriting src/smpi.sh\n"
     ]
    }
   ],
   "source": [
    "%%writefile src/smpi.sh\n",
    "\n",
    "#!/bin/bash\n",
    "n=$1\n",
    "shift\n",
    "mpiexec -n $n bash src/sm.sh \"$@\""
   ]
  },
  {
   "cell_type": "code",
   "execution_count": 58,
   "metadata": {},
   "outputs": [],
   "source": [
    "!bash src/smpi.sh 4 python src/simple_mpi.py"
   ]
  },
  {
   "cell_type": "markdown",
   "metadata": {},
   "source": [
    "### C example"
   ]
  },
  {
   "cell_type": "code",
   "execution_count": 59,
   "metadata": {},
   "outputs": [
    {
     "name": "stdout",
     "output_type": "stream",
     "text": [
      "Writing src/simple_mpi.c\n"
     ]
    }
   ],
   "source": [
    "%%writefile src/simple_mpi.c\n",
    "\n",
    "#include <stdio.h>\n",
    "#include <mpi.h>\n",
    "\n",
    "int main(int argc, char** argv) {\n",
    "    // Initialize MPI\n",
    "    MPI_Init(&argc, &argv);\n",
    "\n",
    "    // Get the rank of the current process\n",
    "    int rank;\n",
    "    MPI_Comm_rank(MPI_COMM_WORLD, &rank);\n",
    "\n",
    "    // Get the total number of processes\n",
    "    int size;\n",
    "    MPI_Comm_size(MPI_COMM_WORLD, &size);\n",
    "\n",
    "    // Print \"Hello, World!\" along with the rank\n",
    "    printf(\"Hello, World! I am process %d out of %d.\\n\", rank, size);\n",
    "\n",
    "    // Finalize MPI\n",
    "    MPI_Finalize();\n",
    "\n",
    "    return 0;\n",
    "}"
   ]
  },
  {
   "cell_type": "code",
   "execution_count": 61,
   "metadata": {},
   "outputs": [],
   "source": [
    "!mpicc -o src/a.out src/simple_mpi.c"
   ]
  },
  {
   "cell_type": "code",
   "execution_count": 63,
   "metadata": {},
   "outputs": [],
   "source": [
    "!mpiexec -n 4 bash src/sm.sh ./src/a.out"
   ]
  },
  {
   "cell_type": "markdown",
   "metadata": {},
   "source": [
    "### MPI IO example in python"
   ]
  },
  {
   "cell_type": "code",
   "execution_count": 78,
   "metadata": {},
   "outputs": [
    {
     "name": "stdout",
     "output_type": "stream",
     "text": [
      "Overwriting src/mpi_io.py\n"
     ]
    }
   ],
   "source": [
    "%%writefile src/mpi_io.py\n",
    "\n",
    "from mpi4py import MPI\n",
    "import numpy as np\n",
    "\n",
    "# Initialize MPI\n",
    "comm = MPI.COMM_WORLD\n",
    "rank = comm.Get_rank()\n",
    "size = comm.Get_size()\n",
    "\n",
    "# Define the size of the shared numpy array\n",
    "array_size = 10000  # Adjust the size as needed\n",
    "\n",
    "# Create a numpy array for each rank\n",
    "local_data = np.arange(array_size, dtype=np.float64)\n",
    "\n",
    "# Create a filename for each rank\n",
    "filename = f\"data/data_rank_{rank}.npy\"\n",
    "\n",
    "# Save the local_data to a file\n",
    "with open(filename,\"wb\") as f:\n",
    "    np.save(f, local_data)\n",
    "\n",
    "# Barrier to synchronize processes before reading\n",
    "comm.Barrier()\n",
    "\n",
    "\n",
    "# Finalize MPI\n",
    "MPI.Finalize()"
   ]
  },
  {
   "cell_type": "markdown",
   "metadata": {},
   "source": [
    "Simple mpi run"
   ]
  },
  {
   "cell_type": "code",
   "execution_count": 79,
   "metadata": {},
   "outputs": [],
   "source": [
    "!mpiexec -n 4 python src/mpi_io.py"
   ]
  },
  {
   "cell_type": "markdown",
   "metadata": {},
   "source": [
    "strace profiling run"
   ]
  },
  {
   "cell_type": "code",
   "execution_count": null,
   "metadata": {},
   "outputs": [],
   "source": [
    "!mpiexec -n 4 bash src/sm.sh python src/mpi_io.py"
   ]
  }
 ],
 "metadata": {
  "kernelspec": {
   "display_name": "hdf5-tutorial",
   "language": "python",
   "name": "python3"
  },
  "language_info": {
   "codemirror_mode": {
    "name": "ipython",
    "version": 3
   },
   "file_extension": ".py",
   "mimetype": "text/x-python",
   "name": "python",
   "nbconvert_exporter": "python",
   "pygments_lexer": "ipython3",
   "version": "3.12.1"
  }
 },
 "nbformat": 4,
 "nbformat_minor": 2
}
