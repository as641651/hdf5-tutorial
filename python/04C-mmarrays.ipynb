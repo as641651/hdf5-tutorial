{
 "cells": [
  {
   "cell_type": "markdown",
   "metadata": {},
   "source": [
    "#### Code:\n",
    "Write a large numpy array and read it using numpy memory mapped arrays.\n",
    "\n",
    "Print the size required by the array"
   ]
  },
  {
   "cell_type": "code",
   "execution_count": 31,
   "metadata": {},
   "outputs": [
    {
     "name": "stdout",
     "output_type": "stream",
     "text": [
      "Overwriting src/mmarrays.py\n"
     ]
    }
   ],
   "source": [
    "%%writefile src/mmarrays.py\n",
    "\n",
    "import sys\n",
    "import numpy as np\n",
    "from memory_profiler import profile\n",
    "\n",
    "\n",
    "def get_data(chunk_size):\n",
    "    return np.random.rand(chunk_size).astype(np.float64)\n",
    "\n",
    "@profile\n",
    "def write(file_name,chunk_size):\n",
    "\n",
    "#open a file for data of a single column\n",
    "    with open(file_name, 'wb') as f:\n",
    "        #for 1024 \"csv files\"\n",
    "        for _ in range(1024):\n",
    "            csv_data =  get_data(chunk_size)\n",
    "            f.write(csv_data.tobytes())\n",
    "    \n",
    "@profile\n",
    "def read(file_name):\n",
    "    a = np.memmap(file_name, dtype=np.float64)\n",
    "    return a\n",
    "\n",
    "if __name__==\"__main__\":\n",
    "    CHUNK_SIZE=int(sys.argv[1])\n",
    "    FILE_NAME = 'build/mmarr.dat'\n",
    "\n",
    "    write(FILE_NAME,CHUNK_SIZE)\n",
    "    a = read(FILE_NAME)\n",
    "    print(\"Data size = {:.3f} MB\".format(a.nbytes*1e-6))\n",
    "    print(\"Chunk size = {:.3f} MB\".format(CHUNK_SIZE*8*1e-6))\n"
   ]
  },
  {
   "cell_type": "markdown",
   "metadata": {},
   "source": [
    "#### Task 1: Compare the number of bytes required for the array and the memory consumed by the program"
   ]
  },
  {
   "cell_type": "code",
   "execution_count": 47,
   "metadata": {},
   "outputs": [
    {
     "name": "stdout",
     "output_type": "stream",
     "text": [
      "Filename: /workspaces/hdf5-tutorial/python/src/mmarrays.py\n",
      "\n",
      "Line #    Mem usage    Increment  Occurrences   Line Contents\n",
      "=============================================================\n",
      "    10     76.4 MiB     76.4 MiB           1   @profile\n",
      "    11                                         def write(file_name,chunk_size):\n",
      "    12                                         \n",
      "    13                                         #open a file for data of a single column\n",
      "    14     78.8 MiB      0.0 MiB           2       with open(file_name, 'wb') as f:\n",
      "    15                                                 #for 1024 \"csv files\"\n",
      "    16     78.8 MiB      0.0 MiB        1025           for _ in range(1024):\n",
      "    17     78.8 MiB      1.4 MiB        1024               csv_data =  get_data(chunk_size)\n",
      "    18     78.8 MiB      1.0 MiB        1024               f.write(csv_data.tobytes())\n",
      "\n",
      "\n",
      "Filename: /workspaces/hdf5-tutorial/python/src/mmarrays.py\n",
      "\n",
      "Line #    Mem usage    Increment  Occurrences   Line Contents\n",
      "=============================================================\n",
      "    20     76.8 MiB     76.8 MiB           1   @profile\n",
      "    21                                         def read(file_name):\n",
      "    22     76.9 MiB      0.0 MiB           1       a = np.memmap(file_name, dtype=np.float64)\n",
      "    23     76.9 MiB      0.0 MiB           1       return a\n",
      "\n",
      "\n",
      "Data size = 819.200 MB\n",
      "Chunk size = 0.800 MB\n"
     ]
    },
    {
     "name": "stderr",
     "output_type": "stream",
     "text": [
      "Memory used by the program: 80652 Kb\n"
     ]
    }
   ],
   "source": [
    "%%bash\n",
    "/usr/bin/time --format=\"Memory used by the program: %M Kb\" python src/mmarrays.py 100000"
   ]
  },
  {
   "cell_type": "code",
   "execution_count": 48,
   "metadata": {},
   "outputs": [
    {
     "name": "stdout",
     "output_type": "stream",
     "text": [
      "-rw-r--r-- 1 vscode vscode 782M Jan  9 17:34 build/mmarr.dat\n"
     ]
    }
   ],
   "source": [
    "!ls -lh build/mm*"
   ]
  },
  {
   "cell_type": "code",
   "execution_count": 40,
   "metadata": {},
   "outputs": [],
   "source": [
    "!rm build/mmarr.dat"
   ]
  },
  {
   "cell_type": "markdown",
   "metadata": {},
   "source": [
    "### Summary:\n",
    "\n",
    "The memory consumed by the program is proportional to the chunk size, and does not depend on the array size.\n"
   ]
  },
  {
   "cell_type": "markdown",
   "metadata": {},
   "source": []
  }
 ],
 "metadata": {
  "kernelspec": {
   "display_name": "hdf5-tutorial",
   "language": "python",
   "name": "python3"
  },
  "language_info": {
   "codemirror_mode": {
    "name": "ipython",
    "version": 3
   },
   "file_extension": ".py",
   "mimetype": "text/x-python",
   "name": "python",
   "nbconvert_exporter": "python",
   "pygments_lexer": "ipython3",
   "version": "3.12.1"
  }
 },
 "nbformat": 4,
 "nbformat_minor": 2
}
