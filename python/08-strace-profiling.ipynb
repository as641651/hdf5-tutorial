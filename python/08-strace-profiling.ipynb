{
 "cells": [
  {
   "cell_type": "markdown",
   "metadata": {},
   "source": [
    "# Setup"
   ]
  },
  {
   "cell_type": "code",
   "execution_count": 1,
   "metadata": {},
   "outputs": [
    {
     "name": "stdout",
     "output_type": "stream",
     "text": [
      "-rw-r--r-- 1 vscode vscode 8.4M Jan  4 09:53 build/hetero1.csv\n",
      "-rw-r--r-- 1 vscode vscode 6.2M Jan  4 10:05 build/hetero1.h5\n"
     ]
    }
   ],
   "source": [
    "!ls -lh build/hetero1*"
   ]
  },
  {
   "cell_type": "markdown",
   "metadata": {},
   "source": [
    "#### Code 1: Slice from csv file"
   ]
  },
  {
   "cell_type": "code",
   "execution_count": 15,
   "metadata": {},
   "outputs": [
    {
     "name": "stdout",
     "output_type": "stream",
     "text": [
      "Overwriting src/01A_slice_from_csv.py\n"
     ]
    }
   ],
   "source": [
    "%%writefile src/01A_slice_from_csv.py\n",
    "\n",
    "from memory_profiler import profile\n",
    "import numpy as np\n",
    "import h5py\n",
    "import sys\n",
    "\n",
    "#@profile\n",
    "def slice_from_csv(csv_filename):\n",
    "    \n",
    "    dt = np.dtype([('name','S20'),\n",
    "                   ('city','S20'),\n",
    "                   ('x','f8'),\n",
    "                   ('y','f8'),\n",
    "                   ('z','f8')])\n",
    "\n",
    "    np_data = np.genfromtxt(csv_filename,delimiter=',',dtype=dt,names=True)\n",
    "    x = np_data[1000:int(sys.argv[1])]\n",
    "    return x\n",
    "   \n",
    "\n",
    "if __name__ == \"__main__\":\n",
    "\n",
    "    csv_filename = 'build/hetero1.csv'\n",
    "    x_csv = slice_from_csv(csv_filename)"
   ]
  },
  {
   "cell_type": "markdown",
   "metadata": {},
   "source": [
    "#### Code 2: Slice from h5 file"
   ]
  },
  {
   "cell_type": "code",
   "execution_count": 16,
   "metadata": {},
   "outputs": [
    {
     "name": "stdout",
     "output_type": "stream",
     "text": [
      "Overwriting src/01B_slice_from_h5.py\n"
     ]
    }
   ],
   "source": [
    "%%writefile src/01B_slice_from_h5.py\n",
    "\n",
    "from memory_profiler import profile\n",
    "import h5py\n",
    "import numpy as np\n",
    "import sys\n",
    "\n",
    "\n",
    "#@profile\n",
    "def slice_from_h5(h5_filename):\n",
    "    f = h5py.File(h5_filename)\n",
    "    x = f['table'][1000:int(sys.argv[1])]\n",
    "    f.close()\n",
    "    return x\n",
    "   \n",
    "\n",
    "if __name__ == \"__main__\":\n",
    "\n",
    "    h5_filename = 'build/hetero1.h5'\n",
    "    x_h5 = slice_from_h5(h5_filename)"
   ]
  },
  {
   "cell_type": "markdown",
   "metadata": {},
   "source": [
    "#### Task 1: Find the nuber of read and memory allocation calls by the operating system"
   ]
  },
  {
   "cell_type": "code",
   "execution_count": 17,
   "metadata": {},
   "outputs": [
    {
     "name": "stderr",
     "output_type": "stream",
     "text": [
      "% time     seconds  usecs/call     calls    errors syscall\n",
      "------ ----------- ----------- --------- --------- ----------------\n",
      " 55.32    0.051256          19      2615           read\n",
      " 44.68    0.041405          34      1208           mmap\n",
      "------ ----------- ----------- --------- --------- ----------------\n",
      "100.00    0.092661          24      3823           total\n"
     ]
    }
   ],
   "source": [
    "%%bash\n",
    "strace -c -e read,mmap python src/01A_slice_from_csv.py 1000"
   ]
  },
  {
   "cell_type": "code",
   "execution_count": 14,
   "metadata": {},
   "outputs": [],
   "source": []
  },
  {
   "cell_type": "code",
   "execution_count": 18,
   "metadata": {},
   "outputs": [
    {
     "name": "stderr",
     "output_type": "stream",
     "text": [
      "% time     seconds  usecs/call     calls    errors syscall\n",
      "------ ----------- ----------- --------- --------- ----------------\n",
      " 54.97    0.039565          25      1541           read\n",
      " 45.03    0.032407          28      1135           mmap\n",
      "------ ----------- ----------- --------- --------- ----------------\n",
      "100.00    0.071972          26      2676           total\n"
     ]
    }
   ],
   "source": [
    "%%bash\n",
    "strace -c -e read,mmap python src/01B_slice_from_h5.py 1000"
   ]
  },
  {
   "cell_type": "code",
   "execution_count": null,
   "metadata": {},
   "outputs": [],
   "source": [
    "%%bash\n",
    "mkdir logs\n",
    "strace -o logs/st_csv.log -t -r -e read python src/01A_slice_from_csv.py 1000\n",
    "strace -o logs/st_h5.log -t -r -e read python src/01B_slice_from_h5.py 1000"
   ]
  }
 ],
 "metadata": {
  "kernelspec": {
   "display_name": "hdf5-tutorial",
   "language": "python",
   "name": "python3"
  },
  "language_info": {
   "codemirror_mode": {
    "name": "ipython",
    "version": 3
   },
   "file_extension": ".py",
   "mimetype": "text/x-python",
   "name": "python",
   "nbconvert_exporter": "python",
   "pygments_lexer": "ipython3",
   "version": "3.12.1"
  }
 },
 "nbformat": 4,
 "nbformat_minor": 2
}
