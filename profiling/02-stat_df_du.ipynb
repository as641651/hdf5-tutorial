{
 "cells": [
  {
   "cell_type": "markdown",
   "metadata": {},
   "source": [
    "#### 1. ```ls -lh```\n",
    "\n",
    "Lists all the files with access code and size in human readable format (M,G,etc)"
   ]
  },
  {
   "cell_type": "code",
   "execution_count": 50,
   "metadata": {},
   "outputs": [
    {
     "name": "stdout",
     "output_type": "stream",
     "text": [
      "total 15M\n",
      "-rw-r--r-- 1 vscode vscode 8.4M Jan  5 15:11 hetero1.csv\n",
      "-rw-r--r-- 1 vscode vscode 6.2M Jan  5 15:11 hetero1.h5\n"
     ]
    }
   ],
   "source": [
    "!ls -lh data/"
   ]
  },
  {
   "cell_type": "markdown",
   "metadata": {},
   "source": [
    "#### 2. ```stat [FILE]```\n",
    "\n",
    "Outputs the following information about a file:\n",
    "> 1. **SIZE**: Size of the file in Bytes\n",
    "> 2. **Blocks**: Number of blocks in the file system that this file is occupying.\n",
    "> 3. **IO Block**: Size of each Block in bits.\n",
    "> 4. **Inode**: Inode number of the file.\n",
    "> 5. **Links:** Number of symbolic links to the file"
   ]
  },
  {
   "cell_type": "code",
   "execution_count": 37,
   "metadata": {},
   "outputs": [
    {
     "name": "stdout",
     "output_type": "stream",
     "text": [
      "  File: data/hetero1.h5\n",
      "  Size: 6402048   \tBlocks: 12504      IO Block: 4096   regular file\n",
      "Device: 820h/2080d\tInode: 89070       Links: 1\n",
      "Access: (0644/-rw-r--r--)  Uid: ( 1000/  vscode)   Gid: ( 1000/  vscode)\n",
      "Access: 2024-01-05 15:11:17.907245096 +0000\n",
      "Modify: 2024-01-05 15:11:17.907245096 +0000\n",
      "Change: 2024-01-05 15:11:17.907245096 +0000\n",
      " Birth: 2024-01-05 15:11:17.907245096 +0000\n"
     ]
    }
   ],
   "source": [
    "!stat data/hetero1.h5"
   ]
  },
  {
   "cell_type": "code",
   "execution_count": 38,
   "metadata": {},
   "outputs": [
    {
     "name": "stdout",
     "output_type": "stream",
     "text": [
      "Block size in Bytes: 512 Bytes\n",
      "Block size in Bits : 4096 bits?\n"
     ]
    }
   ],
   "source": [
    "import math\n",
    "# Copy and paste the size and blocks here\n",
    "size = 6402048\n",
    "blks = 12504\n",
    "blk_size = math.ceil(size/blks)\n",
    "print(\"Block size in Bytes: {} Bytes\".format(blk_size))\n",
    "print(\"Block size in Bits : {} bits?\".format(blk_size*8))"
   ]
  },
  {
   "cell_type": "markdown",
   "metadata": {},
   "source": [
    "#### 3. ```stat -f [FILE]```\n",
    "\n",
    "Outputs the information of the File System in which the file is residing.\n",
    "\n",
    "But according to this, 4096 seems to be in Bytes"
   ]
  },
  {
   "cell_type": "code",
   "execution_count": 5,
   "metadata": {},
   "outputs": [
    {
     "name": "stdout",
     "output_type": "stream",
     "text": [
      "  File: \"data/hetero1.csv\"\n",
      "    ID: 19d6edd17b4e9faf Namelen: 255     Type: ext2/ext3\n",
      "Block size: 4096       Fundamental block size: 4096\n",
      "Blocks: Total: 263940717  Free: 260248655  Available: 246822787\n",
      "Inodes: Total: 67108864   Free: 66736583\n"
     ]
    }
   ],
   "source": [
    "!stat -f data/hetero1.csv"
   ]
  },
  {
   "cell_type": "markdown",
   "metadata": {},
   "source": [
    "#### 4. ```df -H [FILE]``` or ```df -h [FILE]```\n",
    "\n",
    "Also outputs the information on the File system in which the file is residing, but in a human readable format.\n",
    "> 1. -H : Pwers of 1000\n",
    "> 2. -h : Powers of 1024"
   ]
  },
  {
   "cell_type": "code",
   "execution_count": 47,
   "metadata": {},
   "outputs": [
    {
     "name": "stdout",
     "output_type": "stream",
     "text": [
      "Filesystem      Size  Used Avail Use% Mounted on\n",
      "/dev/sdc        1.1T   16G  1.1T   2% /workspaces/hdf5-tutorial\n",
      "Filesystem      Size  Used Avail Use% Mounted on\n",
      "/dev/sdc       1007G   15G  942G   2% /workspaces/hdf5-tutorial\n"
     ]
    }
   ],
   "source": [
    "%%bash\n",
    "df -H data/hetero1.csv\n",
    "df -h data/hetero1.csv"
   ]
  },
  {
   "cell_type": "markdown",
   "metadata": {},
   "source": [
    "**Caution** : Using 4096 as bytes, the size of the file system is the number of available blocks multiplied by 4096, which tallies to 1.1T"
   ]
  },
  {
   "cell_type": "code",
   "execution_count": 52,
   "metadata": {},
   "outputs": [
    {
     "data": {
      "text/plain": [
       "1010.9861355520001"
      ]
     },
     "execution_count": 52,
     "metadata": {},
     "output_type": "execute_result"
    }
   ],
   "source": [
    "(246822787*4096)*1e-9"
   ]
  },
  {
   "cell_type": "markdown",
   "metadata": {},
   "source": [
    "List all the file systems"
   ]
  },
  {
   "cell_type": "code",
   "execution_count": 53,
   "metadata": {},
   "outputs": [
    {
     "name": "stdout",
     "output_type": "stream",
     "text": [
      "Filesystem      Size  Used Avail Use% Mounted on\n",
      "overlay         1.1T  8.3G  1.1T   1% /\n",
      "tmpfs            68M     0   68M   0% /dev\n",
      "tmpfs           8.4G     0  8.4G   0% /sys/fs/cgroup\n",
      "shm              68M     0   68M   0% /dev/shm\n",
      "/dev/sde        1.1T  8.3G  1.1T   1% /vscode\n",
      "/dev/sdc        1.1T   16G  1.1T   2% /workspaces/hdf5-tutorial\n",
      "none            8.4G   95k  8.4G   1% /tmp/vscode-wayland-1d61dcbc-a39f-4cac-b419-f065d7152d03.sock\n",
      "tmpfs           8.4G     0  8.4G   0% /proc/acpi\n",
      "tmpfs           8.4G     0  8.4G   0% /sys/firmware\n"
     ]
    }
   ],
   "source": [
    "!df -H"
   ]
  },
  {
   "cell_type": "code",
   "execution_count": null,
   "metadata": {},
   "outputs": [],
   "source": []
  },
  {
   "cell_type": "code",
   "execution_count": null,
   "metadata": {},
   "outputs": [],
   "source": []
  }
 ],
 "metadata": {
  "kernelspec": {
   "display_name": "hdf5-tutorial",
   "language": "python",
   "name": "python3"
  },
  "language_info": {
   "codemirror_mode": {
    "name": "ipython",
    "version": 3
   },
   "file_extension": ".py",
   "mimetype": "text/x-python",
   "name": "python",
   "nbconvert_exporter": "python",
   "pygments_lexer": "ipython3",
   "version": "3.12.1"
  }
 },
 "nbformat": 4,
 "nbformat_minor": 2
}
