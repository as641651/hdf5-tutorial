{
 "cells": [
  {
   "cell_type": "markdown",
   "metadata": {},
   "source": [
    "\n",
    "1) ```strace -c [COMMAND]```\n",
    "\n",
    "Lists all system calls encountered, along with the count and time spent on each call.\n",
    "\n",
    "In the end, the total time to execute the command is also shown"
   ]
  },
  {
   "cell_type": "code",
   "execution_count": 2,
   "metadata": {},
   "outputs": [
    {
     "name": "stdout",
     "output_type": "stream",
     "text": [
      "01-strace.ipynb\n",
      "% time     seconds  usecs/call     calls    errors syscall\n",
      "------ ----------- ----------- --------- --------- ----------------\n",
      "  0.00    0.000000           0         9           read\n",
      "  0.00    0.000000           0         1           write\n",
      "  0.00    0.000000           0        26           close\n",
      "  0.00    0.000000           0        25           fstat\n",
      "  0.00    0.000000           0        40           mmap\n",
      "  0.00    0.000000           0         7           mprotect\n",
      "  0.00    0.000000           0         1           munmap\n",
      "  0.00    0.000000           0         3           brk\n",
      "  0.00    0.000000           0         2           rt_sigaction\n",
      "  0.00    0.000000           0         1           rt_sigprocmask\n",
      "  0.00    0.000000           0         2           ioctl\n",
      "  0.00    0.000000           0         2         2 access\n",
      "  0.00    0.000000           0         1           execve\n",
      "  0.00    0.000000           0         2         2 statfs\n",
      "  0.00    0.000000           0         1           arch_prctl\n",
      "  0.00    0.000000           0         1           futex\n",
      "  0.00    0.000000           0         2           getdents64\n",
      "  0.00    0.000000           0         1           set_tid_address\n",
      "  0.00    0.000000           0        24           openat\n",
      "  0.00    0.000000           0         1           set_robust_list\n",
      "  0.00    0.000000           0         1           prlimit64\n",
      "------ ----------- ----------- --------- --------- ----------------\n",
      "100.00    0.000000           0       153         4 total\n"
     ]
    }
   ],
   "source": [
    "!strace -c ls"
   ]
  },
  {
   "cell_type": "markdown",
   "metadata": {},
   "source": [
    "2. ```strace [COMMAND]```\n",
    "\n",
    "Outputs the system calls along with their arguments in the sequence according to the order of execution"
   ]
  },
  {
   "cell_type": "code",
   "execution_count": 3,
   "metadata": {},
   "outputs": [
    {
     "name": "stdout",
     "output_type": "stream",
     "text": [
      "execve(\"/bin/ls\", [\"ls\"], 0x7ffdc78a50a0 /* 59 vars */) = 0\n",
      "brk(NULL)                               = 0x5634fb294000\n",
      "access(\"/etc/ld.so.preload\", R_OK)      = -1 ENOENT (No such file or directory)\n",
      "openat(AT_FDCWD, \"/etc/ld.so.cache\", O_RDONLY|O_CLOEXEC) = 3\n",
      "fstat(3, {st_mode=S_IFREG|0644, st_size=35928, ...}) = 0\n",
      "mmap(NULL, 35928, PROT_READ, MAP_PRIVATE, 3, 0) = 0x7f878c6a3000\n",
      "close(3)                                = 0\n",
      "openat(AT_FDCWD, \"/lib/x86_64-linux-gnu/libselinux.so.1\", O_RDONLY|O_CLOEXEC) = 3\n",
      "read(3, \"\\177ELF\\2\\1\\1\\0\\0\\0\\0\\0\\0\\0\\0\\0\\3\\0>\\0\\1\\0\\0\\0\\220}\\0\\0\\0\\0\\0\\0\"..., 832) = 832\n",
      "fstat(3, {st_mode=S_IFREG|0644, st_size=166120, ...}) = 0\n",
      "mmap(NULL, 8192, PROT_READ|PROT_WRITE, MAP_PRIVATE|MAP_ANONYMOUS, -1, 0) = 0x7f878c6a1000\n",
      "mmap(NULL, 177672, PROT_READ, MAP_PRIVATE|MAP_DENYWRITE, 3, 0) = 0x7f878c675000\n",
      "mmap(0x7f878c67c000, 102400, PROT_READ|PROT_EXEC, MAP_PRIVATE|MAP_FIXED|MAP_DENYWRITE, 3, 0x7000) = 0x7f878c67c000\n",
      "mmap(0x7f878c695000, 32768, PROT_READ, MAP_PRIVATE|MAP_FIXED|MAP_DENYWRITE, 3, 0x20000) = 0x7f878c695000\n",
      "mmap(0x7f878c69d000, 8192, PROT_READ|PROT_WRITE, MAP_PRIVATE|MAP_FIXED|MAP_DENYWRITE, 3, 0x27000) = 0x7f878c69d000\n",
      "mmap(0x7f878c69f000, 5640, PROT_READ|PROT_WRITE, MAP_PRIVATE|MAP_FIXED|MAP_ANONYMOUS, -1, 0) = 0x7f878c69f000\n",
      "close(3)                                = 0\n",
      "openat(AT_FDCWD, \"/lib/x86_64-linux-gnu/libc.so.6\", O_RDONLY|O_CLOEXEC) = 3\n",
      "read(3, \"\\177ELF\\2\\1\\1\\3\\0\\0\\0\\0\\0\\0\\0\\0\\3\\0>\\0\\1\\0\\0\\0@>\\2\\0\\0\\0\\0\\0\"..., 832) = 832\n",
      "fstat(3, {st_mode=S_IFREG|0755, st_size=1901536, ...}) = 0\n",
      "mmap(NULL, 1914496, PROT_READ, MAP_PRIVATE|MAP_DENYWRITE, 3, 0) = 0x7f878c4a1000\n",
      "mmap(0x7f878c4c3000, 1413120, PROT_READ|PROT_EXEC, MAP_PRIVATE|MAP_FIXED|MAP_DENYWRITE, 3, 0x22000) = 0x7f878c4c3000\n",
      "mmap(0x7f878c61c000, 323584, PROT_READ, MAP_PRIVATE|MAP_FIXED|MAP_DENYWRITE, 3, 0x17b000) = 0x7f878c61c000\n",
      "mmap(0x7f878c66b000, 24576, PROT_READ|PROT_WRITE, MAP_PRIVATE|MAP_FIXED|MAP_DENYWRITE, 3, 0x1c9000) = 0x7f878c66b000\n",
      "mmap(0x7f878c671000, 13952, PROT_READ|PROT_WRITE, MAP_PRIVATE|MAP_FIXED|MAP_ANONYMOUS, -1, 0) = 0x7f878c671000\n",
      "close(3)                                = 0\n",
      "openat(AT_FDCWD, \"/usr/lib/x86_64-linux-gnu/libpcre2-8.so.0\", O_RDONLY|O_CLOEXEC) = 3\n",
      "read(3, \"\\177ELF\\2\\1\\1\\0\\0\\0\\0\\0\\0\\0\\0\\0\\3\\0>\\0\\1\\0\\0\\0\\200\\\"\\0\\0\\0\\0\\0\\0\"..., 832) = 832\n",
      "fstat(3, {st_mode=S_IFREG|0644, st_size=617128, ...}) = 0\n",
      "mmap(NULL, 619432, PROT_READ, MAP_PRIVATE|MAP_DENYWRITE, 3, 0) = 0x7f878c409000\n",
      "mmap(0x7f878c40b000, 438272, PROT_READ|PROT_EXEC, MAP_PRIVATE|MAP_FIXED|MAP_DENYWRITE, 3, 0x2000) = 0x7f878c40b000\n",
      "mmap(0x7f878c476000, 167936, PROT_READ, MAP_PRIVATE|MAP_FIXED|MAP_DENYWRITE, 3, 0x6d000) = 0x7f878c476000\n",
      "mmap(0x7f878c49f000, 8192, PROT_READ|PROT_WRITE, MAP_PRIVATE|MAP_FIXED|MAP_DENYWRITE, 3, 0x95000) = 0x7f878c49f000\n",
      "close(3)                                = 0\n",
      "openat(AT_FDCWD, \"/lib/x86_64-linux-gnu/libdl.so.2\", O_RDONLY|O_CLOEXEC) = 3\n",
      "read(3, \"\\177ELF\\2\\1\\1\\0\\0\\0\\0\\0\\0\\0\\0\\0\\3\\0>\\0\\1\\0\\0\\0000\\21\\0\\0\\0\\0\\0\\0\"..., 832) = 832\n",
      "fstat(3, {st_mode=S_IFREG|0644, st_size=18688, ...}) = 0\n",
      "mmap(NULL, 20752, PROT_READ, MAP_PRIVATE|MAP_DENYWRITE, 3, 0) = 0x7f878c403000\n",
      "mmap(0x7f878c404000, 8192, PROT_READ|PROT_EXEC, MAP_PRIVATE|MAP_FIXED|MAP_DENYWRITE, 3, 0x1000) = 0x7f878c404000\n",
      "mmap(0x7f878c406000, 4096, PROT_READ, MAP_PRIVATE|MAP_FIXED|MAP_DENYWRITE, 3, 0x3000) = 0x7f878c406000\n",
      "mmap(0x7f878c407000, 8192, PROT_READ|PROT_WRITE, MAP_PRIVATE|MAP_FIXED|MAP_DENYWRITE, 3, 0x3000) = 0x7f878c407000\n",
      "close(3)                                = 0\n",
      "openat(AT_FDCWD, \"/lib/x86_64-linux-gnu/libpthread.so.0\", O_RDONLY|O_CLOEXEC) = 3\n",
      "read(3, \"\\177ELF\\2\\1\\1\\0\\0\\0\\0\\0\\0\\0\\0\\0\\3\\0>\\0\\1\\0\\0\\0 l\\0\\0\\0\\0\\0\\0\"..., 832) = 832\n",
      "fstat(3, {st_mode=S_IFREG|0755, st_size=149520, ...}) = 0\n",
      "mmap(NULL, 136304, PROT_READ, MAP_PRIVATE|MAP_DENYWRITE, 3, 0) = 0x7f878c3e1000\n",
      "mmap(0x7f878c3e7000, 65536, PROT_READ|PROT_EXEC, MAP_PRIVATE|MAP_FIXED|MAP_DENYWRITE, 3, 0x6000) = 0x7f878c3e7000\n",
      "mmap(0x7f878c3f7000, 24576, PROT_READ, MAP_PRIVATE|MAP_FIXED|MAP_DENYWRITE, 3, 0x16000) = 0x7f878c3f7000\n",
      "mmap(0x7f878c3fd000, 8192, PROT_READ|PROT_WRITE, MAP_PRIVATE|MAP_FIXED|MAP_DENYWRITE, 3, 0x1b000) = 0x7f878c3fd000\n",
      "mmap(0x7f878c3ff000, 13424, PROT_READ|PROT_WRITE, MAP_PRIVATE|MAP_FIXED|MAP_ANONYMOUS, -1, 0) = 0x7f878c3ff000\n",
      "close(3)                                = 0\n",
      "mmap(NULL, 8192, PROT_READ|PROT_WRITE, MAP_PRIVATE|MAP_ANONYMOUS, -1, 0) = 0x7f878c3df000\n",
      "arch_prctl(ARCH_SET_FS, 0x7f878c3e0400) = 0\n",
      "mprotect(0x7f878c66b000, 16384, PROT_READ) = 0\n",
      "mprotect(0x7f878c3fd000, 4096, PROT_READ) = 0\n",
      "mprotect(0x7f878c407000, 4096, PROT_READ) = 0\n",
      "mprotect(0x7f878c49f000, 4096, PROT_READ) = 0\n",
      "mprotect(0x7f878c69d000, 4096, PROT_READ) = 0\n",
      "mprotect(0x5634f9618000, 4096, PROT_READ) = 0\n",
      "mprotect(0x7f878c6d6000, 4096, PROT_READ) = 0\n",
      "munmap(0x7f878c6a3000, 35928)           = 0\n",
      "set_tid_address(0x7f878c3e06d0)         = 60059\n",
      "set_robust_list(0x7f878c3e06e0, 24)     = 0\n",
      "rt_sigaction(SIGRTMIN, {sa_handler=0x7f878c3e7690, sa_mask=[], sa_flags=SA_RESTORER|SA_SIGINFO, sa_restorer=0x7f878c3f4140}, NULL, 8) = 0\n",
      "rt_sigaction(SIGRT_1, {sa_handler=0x7f878c3e7730, sa_mask=[], sa_flags=SA_RESTORER|SA_RESTART|SA_SIGINFO, sa_restorer=0x7f878c3f4140}, NULL, 8) = 0\n",
      "rt_sigprocmask(SIG_UNBLOCK, [RTMIN RT_1], NULL, 8) = 0\n",
      "prlimit64(0, RLIMIT_STACK, NULL, {rlim_cur=8192*1024, rlim_max=RLIM64_INFINITY}) = 0\n",
      "statfs(\"/sys/fs/selinux\", 0x7ffc7f304e20) = -1 ENOENT (No such file or directory)\n",
      "statfs(\"/selinux\", 0x7ffc7f304e20)      = -1 ENOENT (No such file or directory)\n",
      "brk(NULL)                               = 0x5634fb294000\n",
      "brk(0x5634fb2b5000)                     = 0x5634fb2b5000\n",
      "openat(AT_FDCWD, \"/proc/filesystems\", O_RDONLY|O_CLOEXEC) = 3\n",
      "fstat(3, {st_mode=S_IFREG|0444, st_size=0, ...}) = 0\n",
      "read(3, \"nodev\\tsysfs\\nnodev\\ttmpfs\\nnodev\\tbd\"..., 1024) = 478\n",
      "read(3, \"\", 1024)                       = 0\n",
      "close(3)                                = 0\n",
      "access(\"/etc/selinux/config\", F_OK)     = -1 ENOENT (No such file or directory)\n",
      "openat(AT_FDCWD, \"/usr/lib/locale/locale-archive\", O_RDONLY|O_CLOEXEC) = 3\n",
      "fstat(3, {st_mode=S_IFREG|0644, st_size=3041456, ...}) = 0\n",
      "mmap(NULL, 3041456, PROT_READ, MAP_PRIVATE, 3, 0) = 0x7f878c0f8000\n",
      "close(3)                                = 0\n",
      "openat(AT_FDCWD, \"/usr/share/locale/locale.alias\", O_RDONLY|O_CLOEXEC) = 3\n",
      "fstat(3, {st_mode=S_IFREG|0644, st_size=2996, ...}) = 0\n",
      "read(3, \"# Locale name alias data base.\\n#\"..., 4096) = 2996\n",
      "read(3, \"\", 4096)                       = 0\n",
      "close(3)                                = 0\n",
      "openat(AT_FDCWD, \"/usr/lib/locale/C.UTF-8/LC_IDENTIFICATION\", O_RDONLY|O_CLOEXEC) = 3\n",
      "fstat(3, {st_mode=S_IFREG|0644, st_size=252, ...}) = 0\n",
      "mmap(NULL, 252, PROT_READ, MAP_PRIVATE, 3, 0) = 0x7f878c6d5000\n",
      "close(3)                                = 0\n",
      "openat(AT_FDCWD, \"/usr/lib/x86_64-linux-gnu/gconv/gconv-modules.cache\", O_RDONLY) = 3\n",
      "fstat(3, {st_mode=S_IFREG|0644, st_size=27002, ...}) = 0\n",
      "mmap(NULL, 27002, PROT_READ, MAP_SHARED, 3, 0) = 0x7f878c6a5000\n",
      "close(3)                                = 0\n",
      "futex(0x7f878c67099c, FUTEX_WAKE_PRIVATE, 2147483647) = 0\n",
      "openat(AT_FDCWD, \"/usr/lib/locale/C.UTF-8/LC_MEASUREMENT\", O_RDONLY|O_CLOEXEC) = 3\n",
      "fstat(3, {st_mode=S_IFREG|0644, st_size=23, ...}) = 0\n",
      "mmap(NULL, 23, PROT_READ, MAP_PRIVATE, 3, 0) = 0x7f878c6a4000\n",
      "close(3)                                = 0\n",
      "openat(AT_FDCWD, \"/usr/lib/locale/C.UTF-8/LC_TELEPHONE\", O_RDONLY|O_CLOEXEC) = 3\n",
      "fstat(3, {st_mode=S_IFREG|0644, st_size=47, ...}) = 0\n",
      "mmap(NULL, 47, PROT_READ, MAP_PRIVATE, 3, 0) = 0x7f878c6a3000\n",
      "close(3)                                = 0\n",
      "openat(AT_FDCWD, \"/usr/lib/locale/C.UTF-8/LC_ADDRESS\", O_RDONLY|O_CLOEXEC) = 3\n",
      "fstat(3, {st_mode=S_IFREG|0644, st_size=131, ...}) = 0\n",
      "mmap(NULL, 131, PROT_READ, MAP_PRIVATE, 3, 0) = 0x7f878c0f7000\n",
      "close(3)                                = 0\n",
      "openat(AT_FDCWD, \"/usr/lib/locale/C.UTF-8/LC_NAME\", O_RDONLY|O_CLOEXEC) = 3\n",
      "fstat(3, {st_mode=S_IFREG|0644, st_size=62, ...}) = 0\n",
      "mmap(NULL, 62, PROT_READ, MAP_PRIVATE, 3, 0) = 0x7f878c0f6000\n",
      "close(3)                                = 0\n",
      "openat(AT_FDCWD, \"/usr/lib/locale/C.UTF-8/LC_PAPER\", O_RDONLY|O_CLOEXEC) = 3\n",
      "fstat(3, {st_mode=S_IFREG|0644, st_size=34, ...}) = 0\n",
      "mmap(NULL, 34, PROT_READ, MAP_PRIVATE, 3, 0) = 0x7f878c0f5000\n",
      "close(3)                                = 0\n",
      "openat(AT_FDCWD, \"/usr/lib/locale/C.UTF-8/LC_MESSAGES\", O_RDONLY|O_CLOEXEC) = 3\n",
      "fstat(3, {st_mode=S_IFDIR|0755, st_size=4096, ...}) = 0\n",
      "close(3)                                = 0\n",
      "openat(AT_FDCWD, \"/usr/lib/locale/C.UTF-8/LC_MESSAGES/SYS_LC_MESSAGES\", O_RDONLY|O_CLOEXEC) = 3\n",
      "fstat(3, {st_mode=S_IFREG|0644, st_size=48, ...}) = 0\n",
      "mmap(NULL, 48, PROT_READ, MAP_PRIVATE, 3, 0) = 0x7f878c0f4000\n",
      "close(3)                                = 0\n",
      "openat(AT_FDCWD, \"/usr/lib/locale/C.UTF-8/LC_MONETARY\", O_RDONLY|O_CLOEXEC) = 3\n",
      "fstat(3, {st_mode=S_IFREG|0644, st_size=270, ...}) = 0\n",
      "mmap(NULL, 270, PROT_READ, MAP_PRIVATE, 3, 0) = 0x7f878c0f3000\n",
      "close(3)                                = 0\n",
      "openat(AT_FDCWD, \"/usr/lib/locale/C.UTF-8/LC_COLLATE\", O_RDONLY|O_CLOEXEC) = 3\n",
      "fstat(3, {st_mode=S_IFREG|0644, st_size=1519554, ...}) = 0\n",
      "mmap(NULL, 1519554, PROT_READ, MAP_PRIVATE, 3, 0) = 0x7f878bf80000\n",
      "close(3)                                = 0\n",
      "openat(AT_FDCWD, \"/usr/lib/locale/C.UTF-8/LC_TIME\", O_RDONLY|O_CLOEXEC) = 3\n",
      "fstat(3, {st_mode=S_IFREG|0644, st_size=3360, ...}) = 0\n",
      "mmap(NULL, 3360, PROT_READ, MAP_PRIVATE, 3, 0) = 0x7f878bf7f000\n",
      "close(3)                                = 0\n",
      "openat(AT_FDCWD, \"/usr/lib/locale/C.UTF-8/LC_NUMERIC\", O_RDONLY|O_CLOEXEC) = 3\n",
      "fstat(3, {st_mode=S_IFREG|0644, st_size=50, ...}) = 0\n",
      "mmap(NULL, 50, PROT_READ, MAP_PRIVATE, 3, 0) = 0x7f878bf7e000\n",
      "close(3)                                = 0\n",
      "openat(AT_FDCWD, \"/usr/lib/locale/C.UTF-8/LC_CTYPE\", O_RDONLY|O_CLOEXEC) = 3\n",
      "fstat(3, {st_mode=S_IFREG|0644, st_size=346132, ...}) = 0\n",
      "mmap(NULL, 346132, PROT_READ, MAP_PRIVATE, 3, 0) = 0x7f878bf29000\n",
      "close(3)                                = 0\n",
      "ioctl(1, TCGETS, {B38400 opost isig icanon echo ...}) = 0\n",
      "ioctl(1, TIOCGWINSZ, {ws_row=24, ws_col=80, ws_xpixel=0, ws_ypixel=0}) = 0\n",
      "openat(AT_FDCWD, \".\", O_RDONLY|O_NONBLOCK|O_CLOEXEC|O_DIRECTORY) = 3\n",
      "fstat(3, {st_mode=S_IFDIR|0755, st_size=4096, ...}) = 0\n",
      "getdents64(3, 0x5634fb29cf60 /* 3 entries */, 32768) = 88\n",
      "getdents64(3, 0x5634fb29cf60 /* 0 entries */, 32768) = 0\n",
      "close(3)                                = 0\n",
      "fstat(1, {st_mode=S_IFCHR|0620, st_rdev=makedev(0x88, 0x3), ...}) = 0\n",
      "write(1, \"01-strace.ipynb\\n\", 1601-strace.ipynb\n",
      ")       = 16\n",
      "close(1)                                = 0\n",
      "close(2)                                = 0\n",
      "exit_group(0)                           = ?\n",
      "+++ exited with 0 +++\n"
     ]
    }
   ],
   "source": [
    "!strace ls"
   ]
  },
  {
   "cell_type": "markdown",
   "metadata": {},
   "source": [
    "3. ```strace -o [LOG FILE] [COMMAND]```\n",
    "\n",
    "Stores the output of strace to a log file"
   ]
  },
  {
   "cell_type": "code",
   "execution_count": 7,
   "metadata": {},
   "outputs": [
    {
     "name": "stderr",
     "output_type": "stream",
     "text": [
      "mkdir: cannot create directory ‘logs’: File exists\n"
     ]
    },
    {
     "name": "stdout",
     "output_type": "stream",
     "text": [
      "01-strace.ipynb\n",
      "logs\n",
      "read(3, \"\\177ELF\\2\\1\\1\\0\\0\\0\\0\\0\\0\\0\\0\\0\\3\\0>\\0\\1\\0\\0\\0\\220}\\0\\0\\0\\0\\0\\0\"..., 832) = 832\n",
      "read(3, \"\\177ELF\\2\\1\\1\\3\\0\\0\\0\\0\\0\\0\\0\\0\\3\\0>\\0\\1\\0\\0\\0@>\\2\\0\\0\\0\\0\\0\"..., 832) = 832\n",
      "read(3, \"\\177ELF\\2\\1\\1\\0\\0\\0\\0\\0\\0\\0\\0\\0\\3\\0>\\0\\1\\0\\0\\0\\200\\\"\\0\\0\\0\\0\\0\\0\"..., 832) = 832\n",
      "read(3, \"\\177ELF\\2\\1\\1\\0\\0\\0\\0\\0\\0\\0\\0\\0\\3\\0>\\0\\1\\0\\0\\0000\\21\\0\\0\\0\\0\\0\\0\"..., 832) = 832\n",
      "openat(AT_FDCWD, \"/lib/x86_64-linux-gnu/libpthread.so.0\", O_RDONLY|O_CLOEXEC) = 3\n",
      "read(3, \"\\177ELF\\2\\1\\1\\0\\0\\0\\0\\0\\0\\0\\0\\0\\3\\0>\\0\\1\\0\\0\\0 l\\0\\0\\0\\0\\0\\0\"..., 832) = 832\n",
      "read(3, \"nodev\\tsysfs\\nnodev\\ttmpfs\\nnodev\\tbd\"..., 1024) = 478\n",
      "read(3, \"\", 1024)                       = 0\n",
      "read(3, \"# Locale name alias data base.\\n#\"..., 4096) = 2996\n",
      "read(3, \"\", 4096)                       = 0\n"
     ]
    }
   ],
   "source": [
    "%%bash\n",
    "mkdir logs\n",
    "strace -o logs/ls.txt ls\n",
    "cat logs/ls.txt | grep read"
   ]
  },
  {
   "cell_type": "markdown",
   "metadata": {},
   "source": [
    "5. ```strace -e [SYS CALLs] [COMMAND]```\n",
    "\n",
    "shows only those system calls listed after -e"
   ]
  },
  {
   "cell_type": "code",
   "execution_count": 10,
   "metadata": {},
   "outputs": [
    {
     "name": "stdout",
     "output_type": "stream",
     "text": [
      "read(3, \"\\177ELF\\2\\1\\1\\0\\0\\0\\0\\0\\0\\0\\0\\0\\3\\0>\\0\\1\\0\\0\\0\\220}\\0\\0\\0\\0\\0\\0\"..., 832) = 832\n",
      "read(3, \"\\177ELF\\2\\1\\1\\3\\0\\0\\0\\0\\0\\0\\0\\0\\3\\0>\\0\\1\\0\\0\\0@>\\2\\0\\0\\0\\0\\0\"..., 832) = 832\n",
      "read(3, \"\\177ELF\\2\\1\\1\\0\\0\\0\\0\\0\\0\\0\\0\\0\\3\\0>\\0\\1\\0\\0\\0\\200\\\"\\0\\0\\0\\0\\0\\0\"..., 832) = 832\n",
      "read(3, \"\\177ELF\\2\\1\\1\\0\\0\\0\\0\\0\\0\\0\\0\\0\\3\\0>\\0\\1\\0\\0\\0000\\21\\0\\0\\0\\0\\0\\0\"..., 832) = 832\n",
      "read(3, \"\\177ELF\\2\\1\\1\\0\\0\\0\\0\\0\\0\\0\\0\\0\\3\\0>\\0\\1\\0\\0\\0 l\\0\\0\\0\\0\\0\\0\"..., 832) = 832\n",
      "read(3, \"nodev\\tsysfs\\nnodev\\ttmpfs\\nnodev\\tbd\"..., 1024) = 478\n",
      "read(3, \"\", 1024)                       = 0\n",
      "read(3, \"# Locale name alias data base.\\n#\"..., 4096) = 2996\n",
      "read(3, \"\", 4096)                       = 0\n",
      "01-strace.ipynb  02-stat_df_du.ipynb  data  logs  src\n",
      "+++ exited with 0 +++\n"
     ]
    }
   ],
   "source": [
    "!strace -e read ls"
   ]
  },
  {
   "cell_type": "code",
   "execution_count": 11,
   "metadata": {},
   "outputs": [
    {
     "name": "stdout",
     "output_type": "stream",
     "text": [
      "mmap(NULL, 35928, PROT_READ, MAP_PRIVATE, 3, 0) = 0x7f49b8b2d000\n",
      "read(3, \"\\177ELF\\2\\1\\1\\0\\0\\0\\0\\0\\0\\0\\0\\0\\3\\0>\\0\\1\\0\\0\\0\\220}\\0\\0\\0\\0\\0\\0\"..., 832) = 832\n",
      "mmap(NULL, 8192, PROT_READ|PROT_WRITE, MAP_PRIVATE|MAP_ANONYMOUS, -1, 0) = 0x7f49b8b2b000\n",
      "mmap(NULL, 177672, PROT_READ, MAP_PRIVATE|MAP_DENYWRITE, 3, 0) = 0x7f49b8aff000\n",
      "mmap(0x7f49b8b06000, 102400, PROT_READ|PROT_EXEC, MAP_PRIVATE|MAP_FIXED|MAP_DENYWRITE, 3, 0x7000) = 0x7f49b8b06000\n",
      "mmap(0x7f49b8b1f000, 32768, PROT_READ, MAP_PRIVATE|MAP_FIXED|MAP_DENYWRITE, 3, 0x20000) = 0x7f49b8b1f000\n",
      "mmap(0x7f49b8b27000, 8192, PROT_READ|PROT_WRITE, MAP_PRIVATE|MAP_FIXED|MAP_DENYWRITE, 3, 0x27000) = 0x7f49b8b27000\n",
      "mmap(0x7f49b8b29000, 5640, PROT_READ|PROT_WRITE, MAP_PRIVATE|MAP_FIXED|MAP_ANONYMOUS, -1, 0) = 0x7f49b8b29000\n",
      "read(3, \"\\177ELF\\2\\1\\1\\3\\0\\0\\0\\0\\0\\0\\0\\0\\3\\0>\\0\\1\\0\\0\\0@>\\2\\0\\0\\0\\0\\0\"..., 832) = 832\n",
      "mmap(NULL, 1914496, PROT_READ, MAP_PRIVATE|MAP_DENYWRITE, 3, 0) = 0x7f49b892b000\n",
      "mmap(0x7f49b894d000, 1413120, PROT_READ|PROT_EXEC, MAP_PRIVATE|MAP_FIXED|MAP_DENYWRITE, 3, 0x22000) = 0x7f49b894d000\n",
      "mmap(0x7f49b8aa6000, 323584, PROT_READ, MAP_PRIVATE|MAP_FIXED|MAP_DENYWRITE, 3, 0x17b000) = 0x7f49b8aa6000\n",
      "mmap(0x7f49b8af5000, 24576, PROT_READ|PROT_WRITE, MAP_PRIVATE|MAP_FIXED|MAP_DENYWRITE, 3, 0x1c9000) = 0x7f49b8af5000\n",
      "mmap(0x7f49b8afb000, 13952, PROT_READ|PROT_WRITE, MAP_PRIVATE|MAP_FIXED|MAP_ANONYMOUS, -1, 0) = 0x7f49b8afb000\n",
      "read(3, \"\\177ELF\\2\\1\\1\\0\\0\\0\\0\\0\\0\\0\\0\\0\\3\\0>\\0\\1\\0\\0\\0\\200\\\"\\0\\0\\0\\0\\0\\0\"..., 832) = 832\n",
      "mmap(NULL, 619432, PROT_READ, MAP_PRIVATE|MAP_DENYWRITE, 3, 0) = 0x7f49b8893000\n",
      "mmap(0x7f49b8895000, 438272, PROT_READ|PROT_EXEC, MAP_PRIVATE|MAP_FIXED|MAP_DENYWRITE, 3, 0x2000) = 0x7f49b8895000\n",
      "mmap(0x7f49b8900000, 167936, PROT_READ, MAP_PRIVATE|MAP_FIXED|MAP_DENYWRITE, 3, 0x6d000) = 0x7f49b8900000\n",
      "mmap(0x7f49b8929000, 8192, PROT_READ|PROT_WRITE, MAP_PRIVATE|MAP_FIXED|MAP_DENYWRITE, 3, 0x95000) = 0x7f49b8929000\n",
      "read(3, \"\\177ELF\\2\\1\\1\\0\\0\\0\\0\\0\\0\\0\\0\\0\\3\\0>\\0\\1\\0\\0\\0000\\21\\0\\0\\0\\0\\0\\0\"..., 832) = 832\n",
      "mmap(NULL, 20752, PROT_READ, MAP_PRIVATE|MAP_DENYWRITE, 3, 0) = 0x7f49b888d000\n",
      "mmap(0x7f49b888e000, 8192, PROT_READ|PROT_EXEC, MAP_PRIVATE|MAP_FIXED|MAP_DENYWRITE, 3, 0x1000) = 0x7f49b888e000\n",
      "mmap(0x7f49b8890000, 4096, PROT_READ, MAP_PRIVATE|MAP_FIXED|MAP_DENYWRITE, 3, 0x3000) = 0x7f49b8890000\n",
      "mmap(0x7f49b8891000, 8192, PROT_READ|PROT_WRITE, MAP_PRIVATE|MAP_FIXED|MAP_DENYWRITE, 3, 0x3000) = 0x7f49b8891000\n",
      "read(3, \"\\177ELF\\2\\1\\1\\0\\0\\0\\0\\0\\0\\0\\0\\0\\3\\0>\\0\\1\\0\\0\\0 l\\0\\0\\0\\0\\0\\0\"..., 832) = 832\n",
      "mmap(NULL, 136304, PROT_READ, MAP_PRIVATE|MAP_DENYWRITE, 3, 0) = 0x7f49b886b000\n",
      "mmap(0x7f49b8871000, 65536, PROT_READ|PROT_EXEC, MAP_PRIVATE|MAP_FIXED|MAP_DENYWRITE, 3, 0x6000) = 0x7f49b8871000\n",
      "mmap(0x7f49b8881000, 24576, PROT_READ, MAP_PRIVATE|MAP_FIXED|MAP_DENYWRITE, 3, 0x16000) = 0x7f49b8881000\n",
      "mmap(0x7f49b8887000, 8192, PROT_READ|PROT_WRITE, MAP_PRIVATE|MAP_FIXED|MAP_DENYWRITE, 3, 0x1b000) = 0x7f49b8887000\n",
      "mmap(0x7f49b8889000, 13424, PROT_READ|PROT_WRITE, MAP_PRIVATE|MAP_FIXED|MAP_ANONYMOUS, -1, 0) = 0x7f49b8889000\n",
      "mmap(NULL, 8192, PROT_READ|PROT_WRITE, MAP_PRIVATE|MAP_ANONYMOUS, -1, 0) = 0x7f49b8869000\n",
      "read(3, \"nodev\\tsysfs\\nnodev\\ttmpfs\\nnodev\\tbd\"..., 1024) = 478\n",
      "read(3, \"\", 1024)                       = 0\n",
      "mmap(NULL, 3041456, PROT_READ, MAP_PRIVATE, 3, 0) = 0x7f49b8582000\n",
      "read(3, \"# Locale name alias data base.\\n#\"..., 4096) = 2996\n",
      "read(3, \"\", 4096)                       = 0\n",
      "mmap(NULL, 252, PROT_READ, MAP_PRIVATE, 3, 0) = 0x7f49b8b5f000\n",
      "mmap(NULL, 27002, PROT_READ, MAP_SHARED, 3, 0) = 0x7f49b8b2f000\n",
      "mmap(NULL, 23, PROT_READ, MAP_PRIVATE, 3, 0) = 0x7f49b8b2e000\n",
      "mmap(NULL, 47, PROT_READ, MAP_PRIVATE, 3, 0) = 0x7f49b8b2d000\n",
      "mmap(NULL, 131, PROT_READ, MAP_PRIVATE, 3, 0) = 0x7f49b8581000\n",
      "mmap(NULL, 62, PROT_READ, MAP_PRIVATE, 3, 0) = 0x7f49b8580000\n",
      "mmap(NULL, 34, PROT_READ, MAP_PRIVATE, 3, 0) = 0x7f49b857f000\n",
      "mmap(NULL, 48, PROT_READ, MAP_PRIVATE, 3, 0) = 0x7f49b857e000\n",
      "mmap(NULL, 270, PROT_READ, MAP_PRIVATE, 3, 0) = 0x7f49b857d000\n",
      "mmap(NULL, 1519554, PROT_READ, MAP_PRIVATE, 3, 0) = 0x7f49b840a000\n",
      "mmap(NULL, 3360, PROT_READ, MAP_PRIVATE, 3, 0) = 0x7f49b8409000\n",
      "mmap(NULL, 50, PROT_READ, MAP_PRIVATE, 3, 0) = 0x7f49b8408000\n",
      "mmap(NULL, 346132, PROT_READ, MAP_PRIVATE, 3, 0) = 0x7f49b83b3000\n",
      "01-strace.ipynb  02-stat_df_du.ipynb  data  logs  src\n",
      "+++ exited with 0 +++\n"
     ]
    }
   ],
   "source": [
    "!strace -e read,mmap ls"
   ]
  },
  {
   "cell_type": "markdown",
   "metadata": {},
   "source": [
    "6. ```strace -t -r [OPTIONS] [COMMAND]```\n",
    "\n",
    "Prints the time stamp (-t) and time taken for each system call (-r) "
   ]
  },
  {
   "cell_type": "code",
   "execution_count": 13,
   "metadata": {},
   "outputs": [
    {
     "name": "stdout",
     "output_type": "stream",
     "text": [
      "16:05:48 (+     0.000000) read(3, \"\\177ELF\\2\\1\\1\\0\\0\\0\\0\\0\\0\\0\\0\\0\\3\\0>\\0\\1\\0\\0\\0\\220}\\0\\0\\0\\0\\0\\0\"..., 832) = 832\n",
      "16:05:48 (+     0.000710) read(3, \"\\177ELF\\2\\1\\1\\3\\0\\0\\0\\0\\0\\0\\0\\0\\3\\0>\\0\\1\\0\\0\\0@>\\2\\0\\0\\0\\0\\0\"..., 832) = 832\n",
      "16:05:48 (+     0.001112) read(3, \"\\177ELF\\2\\1\\1\\0\\0\\0\\0\\0\\0\\0\\0\\0\\3\\0>\\0\\1\\0\\0\\0\\200\\\"\\0\\0\\0\\0\\0\\0\"..., 832) = 832\n",
      "16:05:48 (+     0.001993) read(3, \"\\177ELF\\2\\1\\1\\0\\0\\0\\0\\0\\0\\0\\0\\0\\3\\0>\\0\\1\\0\\0\\0000\\21\\0\\0\\0\\0\\0\\0\"..., 832) = 832\n",
      "16:05:48 (+     0.000972) read(3, \"\\177ELF\\2\\1\\1\\0\\0\\0\\0\\0\\0\\0\\0\\0\\3\\0>\\0\\1\\0\\0\\0 l\\0\\0\\0\\0\\0\\0\"..., 832) = 832\n",
      "16:05:48 (+     0.004109) read(3, \"nodev\\tsysfs\\nnodev\\ttmpfs\\nnodev\\tbd\"..., 1024) = 478\n",
      "16:05:48 (+     0.000232) read(3, \"\", 1024) = 0\n",
      "16:05:48 (+     0.000800) read(3, \"# Locale name alias data base.\\n#\"..., 4096) = 2996\n",
      "16:05:48 (+     0.000314) read(3, \"\", 4096) = 0\n",
      "01-strace.ipynb  02-stat_df_du.ipynb  data  logs  src\n",
      "16:05:48 (+     0.005216) +++ exited with 0 +++\n"
     ]
    }
   ],
   "source": [
    "!strace -t -r -e read ls"
   ]
  },
  {
   "cell_type": "code",
   "execution_count": null,
   "metadata": {},
   "outputs": [],
   "source": []
  }
 ],
 "metadata": {
  "kernelspec": {
   "display_name": "hdf5-tutorial",
   "language": "python",
   "name": "python3"
  },
  "language_info": {
   "codemirror_mode": {
    "name": "ipython",
    "version": 3
   },
   "file_extension": ".py",
   "mimetype": "text/x-python",
   "name": "python",
   "nbconvert_exporter": "python",
   "pygments_lexer": "ipython3",
   "version": "3.12.1"
  }
 },
 "nbformat": 4,
 "nbformat_minor": 2
}
